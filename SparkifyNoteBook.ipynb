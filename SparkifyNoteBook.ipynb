{
 "cells": [
  {
   "cell_type": "code",
   "execution_count": 1,
   "metadata": {},
   "outputs": [
    {
     "data": {
      "application/vnd.jupyter.widget-view+json": {
       "model_id": "89f2436d6e604843b270c36e96dc53a7",
       "version_major": 2,
       "version_minor": 0
      },
      "text/plain": [
       "VBox()"
      ]
     },
     "metadata": {},
     "output_type": "display_data"
    },
    {
     "name": "stdout",
     "output_type": "stream",
     "text": [
      "Starting Spark application\n"
     ]
    },
    {
     "data": {
      "text/html": [
       "<table>\n",
       "<tr><th>ID</th><th>YARN Application ID</th><th>Kind</th><th>State</th><th>Spark UI</th><th>Driver log</th><th>Current session?</th></tr><tr><td>0</td><td>application_1583729079315_0001</td><td>pyspark</td><td>idle</td><td><a target=\"_blank\" href=\"http://ip-172-31-9-152.us-east-2.compute.internal:20888/proxy/application_1583729079315_0001/\">Link</a></td><td><a target=\"_blank\" href=\"http://ip-172-31-3-198.us-east-2.compute.internal:8042/node/containerlogs/container_1583729079315_0001_01_000001/livy\">Link</a></td><td>✔</td></tr></table>"
      ],
      "text/plain": [
       "<IPython.core.display.HTML object>"
      ]
     },
     "metadata": {},
     "output_type": "display_data"
    },
    {
     "data": {
      "application/vnd.jupyter.widget-view+json": {
       "model_id": "",
       "version_major": 2,
       "version_minor": 0
      },
      "text/plain": [
       "FloatProgress(value=0.0, bar_style='info', description='Progress:', layout=Layout(height='25px', width='50%'),…"
      ]
     },
     "metadata": {},
     "output_type": "display_data"
    },
    {
     "name": "stdout",
     "output_type": "stream",
     "text": [
      "SparkSession available as 'spark'.\n"
     ]
    },
    {
     "data": {
      "application/vnd.jupyter.widget-view+json": {
       "model_id": "",
       "version_major": 2,
       "version_minor": 0
      },
      "text/plain": [
       "FloatProgress(value=0.0, bar_style='info', description='Progress:', layout=Layout(height='25px', width='50%'),…"
      ]
     },
     "metadata": {},
     "output_type": "display_data"
    }
   ],
   "source": [
    "# import libraries\n",
    "from pyspark.sql import SparkSession\n",
    "from pyspark.sql.functions import udf, concat, col, desc, year, month, asc, count, avg, countDistinct\n",
    "from pyspark.sql.types import IntegerType\n",
    "import pyspark.sql.functions as func\n",
    "\n",
    "from pyspark.ml import Pipeline\n",
    "from pyspark.ml.evaluation import  MulticlassClassificationEvaluator\n",
    "from pyspark.ml.feature import VectorAssembler,Normalizer,StandardScaler,IDF,StringIndexer\n",
    "from pyspark.ml.regression import LinearRegression\n",
    "from pyspark.ml.classification import LogisticRegression, RandomForestClassifier\n",
    "from pyspark.ml.evaluation import BinaryClassificationEvaluator\n",
    "from pyspark.ml.tuning import ParamGridBuilder, CrossValidator\n",
    "# from matplotlib import pyplot as plt\n",
    "from datetime import date\n",
    "from functools import reduce\n",
    "import numpy as np"
   ]
  },
  {
   "cell_type": "code",
   "execution_count": 2,
   "metadata": {},
   "outputs": [
    {
     "data": {
      "application/vnd.jupyter.widget-view+json": {
       "model_id": "bd67f2e7da4e43e2b0e95a5aa2a902af",
       "version_major": 2,
       "version_minor": 0
      },
      "text/plain": [
       "VBox()"
      ]
     },
     "metadata": {},
     "output_type": "display_data"
    },
    {
     "data": {
      "application/vnd.jupyter.widget-view+json": {
       "model_id": "",
       "version_major": 2,
       "version_minor": 0
      },
      "text/plain": [
       "FloatProgress(value=0.0, bar_style='info', description='Progress:', layout=Layout(height='25px', width='50%'),…"
      ]
     },
     "metadata": {},
     "output_type": "display_data"
    }
   ],
   "source": [
    "# create a Spark session\n",
    "spark = SparkSession.builder.appName(\"sparkify\").getOrCreate()"
   ]
  },
  {
   "cell_type": "markdown",
   "metadata": {},
   "source": [
    "# 加载和清洗数据\n",
    "在这个 Workspace 中，小数据集的名称是 `mini_sparkify_event_data.json`.加载和清洗数据集，检查是否有无效或缺失数据——例如，没有userid或sessionid的数据。 "
   ]
  },
  {
   "cell_type": "code",
   "execution_count": 3,
   "metadata": {},
   "outputs": [
    {
     "data": {
      "application/vnd.jupyter.widget-view+json": {
       "model_id": "55c8cc62d81f405da229dd3b60baeec9",
       "version_major": 2,
       "version_minor": 0
      },
      "text/plain": [
       "VBox()"
      ]
     },
     "metadata": {},
     "output_type": "display_data"
    },
    {
     "data": {
      "application/vnd.jupyter.widget-view+json": {
       "model_id": "",
       "version_major": 2,
       "version_minor": 0
      },
      "text/plain": [
       "FloatProgress(value=0.0, bar_style='info', description='Progress:', layout=Layout(height='25px', width='50%'),…"
      ]
     },
     "metadata": {},
     "output_type": "display_data"
    }
   ],
   "source": [
    "data = spark.read.json(\"s3n://udacity-dsnd/sparkify/sparkify_event_data.json\")"
   ]
  },
  {
   "cell_type": "code",
   "execution_count": 4,
   "metadata": {},
   "outputs": [
    {
     "data": {
      "application/vnd.jupyter.widget-view+json": {
       "model_id": "15a71237b45b4e6d9d87250749c41298",
       "version_major": 2,
       "version_minor": 0
      },
      "text/plain": [
       "VBox()"
      ]
     },
     "metadata": {},
     "output_type": "display_data"
    },
    {
     "data": {
      "application/vnd.jupyter.widget-view+json": {
       "model_id": "",
       "version_major": 2,
       "version_minor": 0
      },
      "text/plain": [
       "FloatProgress(value=0.0, bar_style='info', description='Progress:', layout=Layout(height='25px', width='50%'),…"
      ]
     },
     "metadata": {},
     "output_type": "display_data"
    },
    {
     "name": "stdout",
     "output_type": "stream",
     "text": [
      "26259199\n",
      "DataFrame[summary: string, artist: string, auth: string, firstName: string, gender: string, itemInSession: string, lastName: string, length: string, level: string, location: string, method: string, page: string, registration: string, sessionId: string, song: string, status: string, ts: string, userAgent: string, userId: string]\n",
      "root\n",
      " |-- artist: string (nullable = true)\n",
      " |-- auth: string (nullable = true)\n",
      " |-- firstName: string (nullable = true)\n",
      " |-- gender: string (nullable = true)\n",
      " |-- itemInSession: long (nullable = true)\n",
      " |-- lastName: string (nullable = true)\n",
      " |-- length: double (nullable = true)\n",
      " |-- level: string (nullable = true)\n",
      " |-- location: string (nullable = true)\n",
      " |-- method: string (nullable = true)\n",
      " |-- page: string (nullable = true)\n",
      " |-- registration: long (nullable = true)\n",
      " |-- sessionId: long (nullable = true)\n",
      " |-- song: string (nullable = true)\n",
      " |-- status: long (nullable = true)\n",
      " |-- ts: long (nullable = true)\n",
      " |-- userAgent: string (nullable = true)\n",
      " |-- userId: string (nullable = true)\n",
      "\n",
      "None\n",
      "+--------------------+----------+---------+------+-------------+---------+----------+-----+--------------------+------+--------+-------------+---------+--------------------+------+-------------+--------------------+-------+\n",
      "|              artist|      auth|firstName|gender|itemInSession| lastName|    length|level|            location|method|    page| registration|sessionId|                song|status|           ts|           userAgent| userId|\n",
      "+--------------------+----------+---------+------+-------------+---------+----------+-----+--------------------+------+--------+-------------+---------+--------------------+------+-------------+--------------------+-------+\n",
      "|           Popol Vuh| Logged In|    Shlok|     M|          278|  Johnson| 524.32934| paid|Dallas-Fort Worth...|   PUT|NextSong|1533734541000|    22683|Ich mache einen S...|   200|1538352001000|\"Mozilla/5.0 (Win...|1749042|\n",
      "|         Los Bunkers| Logged In|  Vianney|     F|            9|   Miller| 238.39302| paid|San Francisco-Oak...|   PUT|NextSong|1537500318000|    20836|         MiÃÂ©ntele|   200|1538352002000|\"Mozilla/5.0 (Mac...|1563081|\n",
      "|                Lush| Logged In|     Vina|     F|          109|   Bailey| 140.35546| paid|            Hilo, HI|   PUT|NextSong|1536414505000|     4593|           Baby Talk|   200|1538352002000|Mozilla/5.0 (Maci...|1697168|\n",
      "|Barry Tuckwell/Ac...| Logged In|   Andres|     M|           71|    Foley| 277.15873| paid|       Watertown, SD|   PUT|NextSong|1534386660000|     6370|Horn Concerto No....|   200|1538352003000|\"Mozilla/5.0 (Mac...|1222580|\n",
      "|                 Yes| Logged In|  Aaliyah|     F|           21|  Ramirez|1121.25342| paid|Baltimore-Columbi...|   PUT|NextSong|1537381415000|    22316|Close To The Edge...|   200|1538352003000|\"Mozilla/5.0 (Win...|1714398|\n",
      "|                MGMT| Logged In|     Ryan|     M|            8| Williams| 229.25016| paid|Cape Coral-Fort M...|   PUT|NextSong|1537602560000|    23924|       Electric Feel|   200|1538352004000|\"Mozilla/5.0 (Win...|1010522|\n",
      "|   Animal Collective| Logged In|    Isaac|     M|            6|    Brown|  313.5473| free|          Kokomo, IN|   PUT|NextSong|1536563853000|     1746|              Bluish|   200|1538352005000|Mozilla/5.0 (Wind...|1475659|\n",
      "|              Eminem| Logged In| Jonathan|     M|           29|   Martin|  250.8273| free|New York-Newark-J...|   PUT|NextSong|1538069376000|    22483|         Mockingbird|   200|1538352006000|\"Mozilla/5.0 (Win...|1465194|\n",
      "|         Leona Lewis| Logged In| Jennifer|     F|            0|  Shelton| 203.88526| free|      Pittsburgh, PA|   PUT|NextSong|1536455539000|    25128|          Forgive Me|   200|1538352006000|\"Mozilla/5.0 (Win...|1558463|\n",
      "|     The Cranberries| Logged In|  Michael|     M|           13|    Riley| 183.87546| paid|Albany-Schenectad...|   PUT|NextSong|1533220062000|     3992|         The Concept|   200|1538352006000|\"Mozilla/5.0 (Win...|1605667|\n",
      "|        Mariah Carey| Logged In|    Azari|     M|           37|   Hansen|  265.9522| free|    Martinsville, VA|   PUT|NextSong|1534393835000|    14642|Anytime You Need ...|   200|1538352006000|\"Mozilla/5.0 (X11...|1385500|\n",
      "|Johnny Cash with ...| Logged In|    Riley|     F|          300|Hernandez| 199.81016| paid|         Reading, PA|   PUT|NextSong|1537618545000|    14853|   Nine Pound Hammer|   200|1538352006000|\"Mozilla/5.0 (Mac...|1032628|\n",
      "|            Gorillaz| Logged In|    Brian|     M|           73|    Allen| 131.91791| free|San Diego-Carlsba...|   PUT|NextSong|1537868758000|     2526|Don't Get Lost In...|   200|1538352007000|\"Mozilla/5.0 (Mac...|1901081|\n",
      "|     Los Prisioneros| Logged In|  Brayden|     M|           95|Armstrong| 248.78975| paid|Dallas-Fort Worth...|   PUT|NextSong|1534635513000|    23917|   La Voz De Los '80|   200|1538352007000|\"Mozilla/5.0 (Win...|1611729|\n",
      "|   The White Stripes| Logged In|   Brooke|     F|            6|    Kirby| 126.40608| paid|Los Angeles-Long ...|   PUT|NextSong|1531817572000|    14085|          Good To Me|   200|1538352008000|\"Mozilla/5.0 (Win...|1497881|\n",
      "|   Brigitte Fontaine| Logged In|  Caitlin|     F|          117|  Barnett| 355.57832| free|Philadelphia-Camd...|   PUT|NextSong|1528964849000|     2303|Ah Que La Vie Est...|   200|1538352008000|\"Mozilla/5.0 (Mac...|1413952|\n",
      "|      Alien Ant Farm| Logged In|   Aminah|     F|            8|    Payne|  204.7473| free|Virginia Beach-No...|   PUT|NextSong|1536761240000|    19434|                Wish|   200|1538352008000|Mozilla/5.0 (X11;...|1585800|\n",
      "|                null|Logged Out|     null|  null|           87|     null|      null| paid|                null|   GET|    Home|         null|     8615|                null|   200|1538352008000|                null|1261737|\n",
      "|                null| Logged In|  Valarie|     F|          206|    Moore|      null| paid|Los Angeles-Long ...|   GET|    Home|1537790336000|     2948|                null|   200|1538352008000|\"Mozilla/5.0 (Win...|1009070|\n",
      "|          Dan Mangan| Logged In|    Hanna|     F|           15|   Peters| 293.85098| free|Boston-Cambridge-...|   PUT|NextSong|1534217490000|     7804|Some Place To Com...|   200|1538352010000|\"Mozilla/5.0 (Win...|1041334|\n",
      "+--------------------+----------+---------+------+-------------+---------+----------+-----+--------------------+------+--------+-------------+---------+--------------------+------+-------------+--------------------+-------+\n",
      "only showing top 20 rows\n",
      "\n",
      "None"
     ]
    }
   ],
   "source": [
    "# check detail for data\n",
    "print(data.count())\n",
    "print(data.describe())\n",
    "print(data.printSchema())\n",
    "print(data.show())"
   ]
  },
  {
   "cell_type": "code",
   "execution_count": 5,
   "metadata": {},
   "outputs": [
    {
     "data": {
      "application/vnd.jupyter.widget-view+json": {
       "model_id": "6af3890256fb4d3789f8c0edeb8ae5dc",
       "version_major": 2,
       "version_minor": 0
      },
      "text/plain": [
       "VBox()"
      ]
     },
     "metadata": {},
     "output_type": "display_data"
    },
    {
     "data": {
      "application/vnd.jupyter.widget-view+json": {
       "model_id": "",
       "version_major": 2,
       "version_minor": 0
      },
      "text/plain": [
       "FloatProgress(value=0.0, bar_style='info', description='Progress:', layout=Layout(height='25px', width='50%'),…"
      ]
     },
     "metadata": {},
     "output_type": "display_data"
    }
   ],
   "source": [
    "data = data.dropna(how = \"any\",subset=[\"userId\",\"sessionId\"])\n",
    "data = data.filter(data[\"userId\"] != \"\")"
   ]
  },
  {
   "cell_type": "markdown",
   "metadata": {},
   "source": [
    "# 探索性数据分析\n",
    "当你使用完整数据集时，通过加载小数据集，在 Spark 中完成基础操作来实现探索性数据分析。在这个 Workspace 中，我们已经提供给你一个你可以探索的小数据集。\n",
    "\n",
    "### 定义客户流失\n",
    "\n",
    "在你完成初步分析之后，创建一列 `Churn` 作为模型的标签。我建议你使用 `Cancellation Confirmation` 事件来定义客户流失，该事件在付费或免费客户身上都有发生。作为一个奖励任务，你也可以深入了解 `Downgrade` 事件。\n",
    "\n",
    "### 探索数据\n",
    "你定义好客户流失后，就可以执行一些探索性数据分析，观察留存用户和流失用户的行为。你可以首先把这两类用户的数据聚合到一起，观察固定时间内某个特定动作出现的次数或者播放音乐的数量。"
   ]
  },
  {
   "cell_type": "code",
   "execution_count": 6,
   "metadata": {},
   "outputs": [
    {
     "data": {
      "application/vnd.jupyter.widget-view+json": {
       "model_id": "e62fedf6687d44aab84b2d2f845f66c7",
       "version_major": 2,
       "version_minor": 0
      },
      "text/plain": [
       "VBox()"
      ]
     },
     "metadata": {},
     "output_type": "display_data"
    },
    {
     "data": {
      "application/vnd.jupyter.widget-view+json": {
       "model_id": "",
       "version_major": 2,
       "version_minor": 0
      },
      "text/plain": [
       "FloatProgress(value=0.0, bar_style='info', description='Progress:', layout=Layout(height='25px', width='50%'),…"
      ]
     },
     "metadata": {},
     "output_type": "display_data"
    }
   ],
   "source": [
    "churn_func = udf(lambda x: 1 if x == \"Cancellation Confirmation\" or x == \"Downgrade\" else 0, IntegerType())"
   ]
  },
  {
   "cell_type": "code",
   "execution_count": 7,
   "metadata": {},
   "outputs": [
    {
     "data": {
      "application/vnd.jupyter.widget-view+json": {
       "model_id": "5470739f29094f6297fdc7c0197a9022",
       "version_major": 2,
       "version_minor": 0
      },
      "text/plain": [
       "VBox()"
      ]
     },
     "metadata": {},
     "output_type": "display_data"
    },
    {
     "data": {
      "application/vnd.jupyter.widget-view+json": {
       "model_id": "",
       "version_major": 2,
       "version_minor": 0
      },
      "text/plain": [
       "FloatProgress(value=0.0, bar_style='info', description='Progress:', layout=Layout(height='25px', width='50%'),…"
      ]
     },
     "metadata": {},
     "output_type": "display_data"
    }
   ],
   "source": [
    "data = data.withColumn(\"Churn\", churn_func(data.page))"
   ]
  },
  {
   "cell_type": "code",
   "execution_count": 8,
   "metadata": {},
   "outputs": [
    {
     "data": {
      "application/vnd.jupyter.widget-view+json": {
       "model_id": "0e40d5d7d347470db3fff9c205040523",
       "version_major": 2,
       "version_minor": 0
      },
      "text/plain": [
       "VBox()"
      ]
     },
     "metadata": {},
     "output_type": "display_data"
    },
    {
     "data": {
      "application/vnd.jupyter.widget-view+json": {
       "model_id": "",
       "version_major": 2,
       "version_minor": 0
      },
      "text/plain": [
       "FloatProgress(value=0.0, bar_style='info', description='Progress:', layout=Layout(height='25px', width='50%'),…"
      ]
     },
     "metadata": {},
     "output_type": "display_data"
    }
   ],
   "source": [
    "# length visual\n",
    "# 由于AWS的PySpark空间没有pandas，所以无法执行下面的可视化代码\n",
    "# data_pd = data.select(\"length\").toPandas()\n",
    "# data_pd.plot(kind = \"hist\", bins = 500)"
   ]
  },
  {
   "cell_type": "code",
   "execution_count": 9,
   "metadata": {},
   "outputs": [
    {
     "data": {
      "application/vnd.jupyter.widget-view+json": {
       "model_id": "34c76c2c52164fd1af6bcfba76a2d088",
       "version_major": 2,
       "version_minor": 0
      },
      "text/plain": [
       "VBox()"
      ]
     },
     "metadata": {},
     "output_type": "display_data"
    },
    {
     "data": {
      "application/vnd.jupyter.widget-view+json": {
       "model_id": "",
       "version_major": 2,
       "version_minor": 0
      },
      "text/plain": [
       "FloatProgress(value=0.0, bar_style='info', description='Progress:', layout=Layout(height='25px', width='50%'),…"
      ]
     },
     "metadata": {},
     "output_type": "display_data"
    }
   ],
   "source": [
    "get_datetime_func = udf(lambda x : date.fromtimestamp(x/1000).isoformat())\n",
    "data = data.withColumn(\"dt\", get_datetime_func(data.ts))"
   ]
  },
  {
   "cell_type": "code",
   "execution_count": 10,
   "metadata": {},
   "outputs": [
    {
     "data": {
      "application/vnd.jupyter.widget-view+json": {
       "model_id": "c37715d8b3a04c8aa4f8b2a02ae8d8e2",
       "version_major": 2,
       "version_minor": 0
      },
      "text/plain": [
       "VBox()"
      ]
     },
     "metadata": {},
     "output_type": "display_data"
    },
    {
     "data": {
      "application/vnd.jupyter.widget-view+json": {
       "model_id": "",
       "version_major": 2,
       "version_minor": 0
      },
      "text/plain": [
       "FloatProgress(value=0.0, bar_style='info', description='Progress:', layout=Layout(height='25px', width='50%'),…"
      ]
     },
     "metadata": {},
     "output_type": "display_data"
    }
   ],
   "source": [
    "group_dataset = data.groupBy([\"userId\",\"dt\",\"Churn\",\"page\"]) \\\n",
    "    .agg({\"page\":\"count\"}) \\\n",
    "    .withColumnRenamed(\"count(page)\",\"cp\") \\\n",
    "    .orderBy([desc(\"userId\"),desc(\"dt\")])\n",
    "\n",
    "# group_dataset.show()"
   ]
  },
  {
   "cell_type": "markdown",
   "metadata": {},
   "source": [
    "# 特征工程\n",
    "熟悉了数据之后，就可以构建你认为会对训练模型帮助最大的特征。要处理完整数据集，你可以按照下述步骤：\n",
    "- 写一个脚本来从小数据集中提取你需要的特征\n",
    "- 确保你的脚本可以拓展到大数据集上，使用之前教过的最佳实践原则\n",
    "- 在完整数据集上运行你的脚本，按运行情况调试代码\n",
    "\n",
    "如果是在教室的 workspace，你可以直接用里面提供的小数据集来提取特征。确保当你开始使用 Spark 集群的时候，把上述的成果迁移到大数据集上。"
   ]
  },
  {
   "cell_type": "markdown",
   "metadata": {},
   "source": [
    "### Numberic Features"
   ]
  },
  {
   "cell_type": "code",
   "execution_count": 11,
   "metadata": {},
   "outputs": [
    {
     "data": {
      "application/vnd.jupyter.widget-view+json": {
       "model_id": "7ee639a7759243c5bdac17fdb8ec85ed",
       "version_major": 2,
       "version_minor": 0
      },
      "text/plain": [
       "VBox()"
      ]
     },
     "metadata": {},
     "output_type": "display_data"
    },
    {
     "data": {
      "application/vnd.jupyter.widget-view+json": {
       "model_id": "",
       "version_major": 2,
       "version_minor": 0
      },
      "text/plain": [
       "FloatProgress(value=0.0, bar_style='info', description='Progress:', layout=Layout(height='25px', width='50%'),…"
      ]
     },
     "metadata": {},
     "output_type": "display_data"
    }
   ],
   "source": [
    "# count songs\n",
    "df_songs = data.groupBy(\"userId\").agg(countDistinct(\"song\").alias(\"countSong\")).orderBy(\"userId\")"
   ]
  },
  {
   "cell_type": "code",
   "execution_count": 12,
   "metadata": {
    "scrolled": false
   },
   "outputs": [
    {
     "data": {
      "application/vnd.jupyter.widget-view+json": {
       "model_id": "9d965c5ca7964b4eab8f0cef15922a60",
       "version_major": 2,
       "version_minor": 0
      },
      "text/plain": [
       "VBox()"
      ]
     },
     "metadata": {},
     "output_type": "display_data"
    },
    {
     "data": {
      "application/vnd.jupyter.widget-view+json": {
       "model_id": "",
       "version_major": 2,
       "version_minor": 0
      },
      "text/plain": [
       "FloatProgress(value=0.0, bar_style='info', description='Progress:', layout=Layout(height='25px', width='50%'),…"
      ]
     },
     "metadata": {},
     "output_type": "display_data"
    }
   ],
   "source": [
    "# calc avg listen time\n",
    "df_avg_length = data.groupBy(\"userId\").agg(avg(\"length\").alias(\"avgLength\")).orderBy(\"userId\")"
   ]
  },
  {
   "cell_type": "code",
   "execution_count": 13,
   "metadata": {},
   "outputs": [
    {
     "data": {
      "application/vnd.jupyter.widget-view+json": {
       "model_id": "34defc0c6cc34a84b041ee99fc8ea9fd",
       "version_major": 2,
       "version_minor": 0
      },
      "text/plain": [
       "VBox()"
      ]
     },
     "metadata": {},
     "output_type": "display_data"
    },
    {
     "data": {
      "application/vnd.jupyter.widget-view+json": {
       "model_id": "",
       "version_major": 2,
       "version_minor": 0
      },
      "text/plain": [
       "FloatProgress(value=0.0, bar_style='info', description='Progress:', layout=Layout(height='25px', width='50%'),…"
      ]
     },
     "metadata": {},
     "output_type": "display_data"
    }
   ],
   "source": [
    "# count all artist for each user\n",
    "df_singers = data.dropDuplicates([\"userId\", \"artist\"]).groupBy(\"userId\").agg(count(\"artist\").alias(\"countArtist\")).orderBy(\"userId\")"
   ]
  },
  {
   "cell_type": "markdown",
   "metadata": {},
   "source": [
    "### Category Features"
   ]
  },
  {
   "cell_type": "code",
   "execution_count": 14,
   "metadata": {},
   "outputs": [
    {
     "data": {
      "application/vnd.jupyter.widget-view+json": {
       "model_id": "e0571daca2d044abb4182bde03c6f530",
       "version_major": 2,
       "version_minor": 0
      },
      "text/plain": [
       "VBox()"
      ]
     },
     "metadata": {},
     "output_type": "display_data"
    },
    {
     "data": {
      "application/vnd.jupyter.widget-view+json": {
       "model_id": "",
       "version_major": 2,
       "version_minor": 0
      },
      "text/plain": [
       "FloatProgress(value=0.0, bar_style='info', description='Progress:', layout=Layout(height='25px', width='50%'),…"
      ]
     },
     "metadata": {},
     "output_type": "display_data"
    }
   ],
   "source": [
    "# select category features\n",
    "df_catgory = data.select([\"userId\", \"gender\", \"level\", \"location\", \"method\"])\n",
    "df_catgory = df_catgory.dropDuplicates([\"userId\"]).orderBy(desc(\"userId\"))"
   ]
  },
  {
   "cell_type": "code",
   "execution_count": 15,
   "metadata": {},
   "outputs": [
    {
     "data": {
      "application/vnd.jupyter.widget-view+json": {
       "model_id": "281078b0921d4fc6b89ab845afc9fc7d",
       "version_major": 2,
       "version_minor": 0
      },
      "text/plain": [
       "VBox()"
      ]
     },
     "metadata": {},
     "output_type": "display_data"
    },
    {
     "data": {
      "application/vnd.jupyter.widget-view+json": {
       "model_id": "",
       "version_major": 2,
       "version_minor": 0
      },
      "text/plain": [
       "FloatProgress(value=0.0, bar_style='info', description='Progress:', layout=Layout(height='25px', width='50%'),…"
      ]
     },
     "metadata": {},
     "output_type": "display_data"
    }
   ],
   "source": [
    "#  user may have 2 Churn values, we keep value 1 only\n",
    "df_calced = data.select(\"Churn\",\"userId\").orderBy(desc(\"Churn\")).dropDuplicates([\"userId\"])"
   ]
  },
  {
   "cell_type": "code",
   "execution_count": 16,
   "metadata": {},
   "outputs": [
    {
     "data": {
      "application/vnd.jupyter.widget-view+json": {
       "model_id": "8e94fa84bce543088285350e16a28d57",
       "version_major": 2,
       "version_minor": 0
      },
      "text/plain": [
       "VBox()"
      ]
     },
     "metadata": {},
     "output_type": "display_data"
    },
    {
     "data": {
      "application/vnd.jupyter.widget-view+json": {
       "model_id": "",
       "version_major": 2,
       "version_minor": 0
      },
      "text/plain": [
       "FloatProgress(value=0.0, bar_style='info', description='Progress:', layout=Layout(height='25px', width='50%'),…"
      ]
     },
     "metadata": {},
     "output_type": "display_data"
    }
   ],
   "source": [
    "# join all features\n",
    "for feature in [df_songs, df_avg_length, df_singers, df_catgory]:\n",
    "    df_calced = df_calced.join(feature, [\"userId\"], how=\"left\")"
   ]
  },
  {
   "cell_type": "code",
   "execution_count": 17,
   "metadata": {},
   "outputs": [
    {
     "data": {
      "application/vnd.jupyter.widget-view+json": {
       "model_id": "6cb5d960d8c6409092d1e93dda9dba7c",
       "version_major": 2,
       "version_minor": 0
      },
      "text/plain": [
       "VBox()"
      ]
     },
     "metadata": {},
     "output_type": "display_data"
    },
    {
     "data": {
      "application/vnd.jupyter.widget-view+json": {
       "model_id": "",
       "version_major": 2,
       "version_minor": 0
      },
      "text/plain": [
       "FloatProgress(value=0.0, bar_style='info', description='Progress:', layout=Layout(height='25px', width='50%'),…"
      ]
     },
     "metadata": {},
     "output_type": "display_data"
    }
   ],
   "source": [
    "# drop all na value\n",
    "df_calced = df_calced.na.drop()\n",
    "df_calced = df_calced.dropna(how = \"any\")"
   ]
  },
  {
   "cell_type": "code",
   "execution_count": 18,
   "metadata": {
    "scrolled": true
   },
   "outputs": [
    {
     "data": {
      "application/vnd.jupyter.widget-view+json": {
       "model_id": "149fc5c93da64c25bac2259cb63f544b",
       "version_major": 2,
       "version_minor": 0
      },
      "text/plain": [
       "VBox()"
      ]
     },
     "metadata": {},
     "output_type": "display_data"
    },
    {
     "data": {
      "application/vnd.jupyter.widget-view+json": {
       "model_id": "",
       "version_major": 2,
       "version_minor": 0
      },
      "text/plain": [
       "FloatProgress(value=0.0, bar_style='info', description='Progress:', layout=Layout(height='25px', width='50%'),…"
      ]
     },
     "metadata": {},
     "output_type": "display_data"
    }
   ],
   "source": [
    "# convert category features to numberic\n",
    "for index in [\"gender\", \"level\", \"location\", \"method\"]:\n",
    "    indexer = StringIndexer(inputCol=index, outputCol=f\"{index}Indexer\")\n",
    "    _fit = indexer.fit(df_calced)\n",
    "    df_calced = _fit.transform(df_calced)"
   ]
  },
  {
   "cell_type": "code",
   "execution_count": 19,
   "metadata": {},
   "outputs": [
    {
     "data": {
      "application/vnd.jupyter.widget-view+json": {
       "model_id": "787157deb7014c6a85fa83d2048a0dce",
       "version_major": 2,
       "version_minor": 0
      },
      "text/plain": [
       "VBox()"
      ]
     },
     "metadata": {},
     "output_type": "display_data"
    },
    {
     "data": {
      "application/vnd.jupyter.widget-view+json": {
       "model_id": "",
       "version_major": 2,
       "version_minor": 0
      },
      "text/plain": [
       "FloatProgress(value=0.0, bar_style='info', description='Progress:', layout=Layout(height='25px', width='50%'),…"
      ]
     },
     "metadata": {},
     "output_type": "display_data"
    }
   ],
   "source": [
    "import pyspark.sql.functions as F"
   ]
  },
  {
   "cell_type": "code",
   "execution_count": 20,
   "metadata": {},
   "outputs": [
    {
     "data": {
      "application/vnd.jupyter.widget-view+json": {
       "model_id": "d81ce4b4471642cdb4d3943490e369df",
       "version_major": 2,
       "version_minor": 0
      },
      "text/plain": [
       "VBox()"
      ]
     },
     "metadata": {},
     "output_type": "display_data"
    },
    {
     "data": {
      "application/vnd.jupyter.widget-view+json": {
       "model_id": "",
       "version_major": 2,
       "version_minor": 0
      },
      "text/plain": [
       "FloatProgress(value=0.0, bar_style='info', description='Progress:', layout=Layout(height='25px', width='50%'),…"
      ]
     },
     "metadata": {},
     "output_type": "display_data"
    }
   ],
   "source": [
    "# df_agg = df_calced.agg(*[F.count(F.when(F.isnull(c), c)).alias(c) for c in df_calced.columns])\n",
    "# df_agg.show()"
   ]
  },
  {
   "cell_type": "code",
   "execution_count": 21,
   "metadata": {},
   "outputs": [
    {
     "data": {
      "application/vnd.jupyter.widget-view+json": {
       "model_id": "6bf2ae80f2034b1bbb59a38e264d1a24",
       "version_major": 2,
       "version_minor": 0
      },
      "text/plain": [
       "VBox()"
      ]
     },
     "metadata": {},
     "output_type": "display_data"
    },
    {
     "data": {
      "application/vnd.jupyter.widget-view+json": {
       "model_id": "",
       "version_major": 2,
       "version_minor": 0
      },
      "text/plain": [
       "FloatProgress(value=0.0, bar_style='info', description='Progress:', layout=Layout(height='25px', width='50%'),…"
      ]
     },
     "metadata": {},
     "output_type": "display_data"
    }
   ],
   "source": [
    "# convert all features to vector\n",
    "assembler = VectorAssembler(inputCols=[\"countSong\", \"avgLength\", \"countArtist\", \"genderIndexer\", \"levelIndexer\", \"locationIndexer\", \"methodIndexer\"], outputCol=\"featuresVec\")\n",
    "df_calced = assembler.transform(df_calced)"
   ]
  },
  {
   "cell_type": "code",
   "execution_count": 22,
   "metadata": {},
   "outputs": [
    {
     "data": {
      "application/vnd.jupyter.widget-view+json": {
       "model_id": "377ad40a925f4e58a5db99d5414c9975",
       "version_major": 2,
       "version_minor": 0
      },
      "text/plain": [
       "VBox()"
      ]
     },
     "metadata": {},
     "output_type": "display_data"
    },
    {
     "data": {
      "application/vnd.jupyter.widget-view+json": {
       "model_id": "",
       "version_major": 2,
       "version_minor": 0
      },
      "text/plain": [
       "FloatProgress(value=0.0, bar_style='info', description='Progress:', layout=Layout(height='25px', width='50%'),…"
      ]
     },
     "metadata": {},
     "output_type": "display_data"
    }
   ],
   "source": [
    "# standarded scaler the features column\n",
    "stander = StandardScaler(inputCol=\"featuresVec\", outputCol=\"features\")\n",
    "stander_fit = stander.fit(df_calced)\n",
    "df_calced = stander_fit.transform(df_calced)"
   ]
  },
  {
   "cell_type": "code",
   "execution_count": 23,
   "metadata": {},
   "outputs": [
    {
     "data": {
      "application/vnd.jupyter.widget-view+json": {
       "model_id": "791a1206899b464b8b0bad1192cbb1d7",
       "version_major": 2,
       "version_minor": 0
      },
      "text/plain": [
       "VBox()"
      ]
     },
     "metadata": {},
     "output_type": "display_data"
    },
    {
     "data": {
      "application/vnd.jupyter.widget-view+json": {
       "model_id": "",
       "version_major": 2,
       "version_minor": 0
      },
      "text/plain": [
       "FloatProgress(value=0.0, bar_style='info', description='Progress:', layout=Layout(height='25px', width='50%'),…"
      ]
     },
     "metadata": {},
     "output_type": "display_data"
    }
   ],
   "source": [
    "# drop useless column\n",
    "drop_columns = [\"userId\", \"gender\", \"level\", \"location\", \"method\"]\n",
    "for column in drop_columns:\n",
    "    df_calced = df_calced.drop(column)"
   ]
  },
  {
   "cell_type": "markdown",
   "metadata": {},
   "source": [
    "# 建模\n",
    "将完整数据集分成训练集、测试集和验证集。测试几种你学过的机器学习方法。评价不同机器学习方法的准确率，根据情况调节参数。根据准确率你挑选出表现最好的那个模型，然后报告在训练集上的结果。因为流失顾客数据集很小，我建议选用 F1 score 作为优化指标。"
   ]
  },
  {
   "cell_type": "code",
   "execution_count": 24,
   "metadata": {},
   "outputs": [
    {
     "data": {
      "application/vnd.jupyter.widget-view+json": {
       "model_id": "592f979b83e241898a4cdcded606d818",
       "version_major": 2,
       "version_minor": 0
      },
      "text/plain": [
       "VBox()"
      ]
     },
     "metadata": {},
     "output_type": "display_data"
    },
    {
     "data": {
      "application/vnd.jupyter.widget-view+json": {
       "model_id": "",
       "version_major": 2,
       "version_minor": 0
      },
      "text/plain": [
       "FloatProgress(value=0.0, bar_style='info', description='Progress:', layout=Layout(height='25px', width='50%'),…"
      ]
     },
     "metadata": {},
     "output_type": "display_data"
    }
   ],
   "source": [
    "# use 70% data as train dataset, and 15% for test and val dataset\n",
    "train_dataset, test_dataset, val_dataset = df_calced.randomSplit([0.7, 0.15, 0.15], seed = 58)"
   ]
  },
  {
   "cell_type": "markdown",
   "metadata": {},
   "source": [
    "### LinearRegression"
   ]
  },
  {
   "cell_type": "code",
   "execution_count": 25,
   "metadata": {},
   "outputs": [
    {
     "data": {
      "application/vnd.jupyter.widget-view+json": {
       "model_id": "130ef90d77804576955c0e92b7015973",
       "version_major": 2,
       "version_minor": 0
      },
      "text/plain": [
       "VBox()"
      ]
     },
     "metadata": {},
     "output_type": "display_data"
    },
    {
     "data": {
      "application/vnd.jupyter.widget-view+json": {
       "model_id": "",
       "version_major": 2,
       "version_minor": 0
      },
      "text/plain": [
       "FloatProgress(value=0.0, bar_style='info', description='Progress:', layout=Layout(height='25px', width='50%'),…"
      ]
     },
     "metadata": {},
     "output_type": "display_data"
    }
   ],
   "source": [
    "evaluator = MulticlassClassificationEvaluator(predictionCol=\"prediction\", labelCol=\"Churn\")\n",
    "binary_evaluator = BinaryClassificationEvaluator(labelCol=\"Churn\", rawPredictionCol=\"prediction\")"
   ]
  },
  {
   "cell_type": "code",
   "execution_count": 26,
   "metadata": {},
   "outputs": [
    {
     "data": {
      "application/vnd.jupyter.widget-view+json": {
       "model_id": "52e7dd9b7de44cd4928a9c7fa210f346",
       "version_major": 2,
       "version_minor": 0
      },
      "text/plain": [
       "VBox()"
      ]
     },
     "metadata": {},
     "output_type": "display_data"
    },
    {
     "data": {
      "application/vnd.jupyter.widget-view+json": {
       "model_id": "",
       "version_major": 2,
       "version_minor": 0
      },
      "text/plain": [
       "FloatProgress(value=0.0, bar_style='info', description='Progress:', layout=Layout(height='25px', width='50%'),…"
      ]
     },
     "metadata": {},
     "output_type": "display_data"
    }
   ],
   "source": [
    "# build linear regression model\n",
    "lr = LinearRegression(labelCol=\"Churn\", featuresCol=\"features\", fitIntercept=False, regParam=0.0, solver=\"normal\")\n",
    "model = lr.fit(train_dataset) "
   ]
  },
  {
   "cell_type": "code",
   "execution_count": 27,
   "metadata": {},
   "outputs": [
    {
     "data": {
      "application/vnd.jupyter.widget-view+json": {
       "model_id": "3319cc84394f4f84b2abf0b344f143d5",
       "version_major": 2,
       "version_minor": 0
      },
      "text/plain": [
       "VBox()"
      ]
     },
     "metadata": {},
     "output_type": "display_data"
    },
    {
     "data": {
      "application/vnd.jupyter.widget-view+json": {
       "model_id": "",
       "version_major": 2,
       "version_minor": 0
      },
      "text/plain": [
       "FloatProgress(value=0.0, bar_style='info', description='Progress:', layout=Layout(height='25px', width='50%'),…"
      ]
     },
     "metadata": {},
     "output_type": "display_data"
    }
   ],
   "source": [
    "# train the dataset by using linear regression model\n",
    "train_pre = model.transform(train_dataset)\n",
    "test_pre = model.transform(test_dataset)"
   ]
  },
  {
   "cell_type": "code",
   "execution_count": 28,
   "metadata": {},
   "outputs": [
    {
     "data": {
      "application/vnd.jupyter.widget-view+json": {
       "model_id": "d20e4106d5394b8b9c6d5f2d4cad4fc8",
       "version_major": 2,
       "version_minor": 0
      },
      "text/plain": [
       "VBox()"
      ]
     },
     "metadata": {},
     "output_type": "display_data"
    },
    {
     "data": {
      "application/vnd.jupyter.widget-view+json": {
       "model_id": "",
       "version_major": 2,
       "version_minor": 0
      },
      "text/plain": [
       "FloatProgress(value=0.0, bar_style='info', description='Progress:', layout=Layout(height='25px', width='50%'),…"
      ]
     },
     "metadata": {},
     "output_type": "display_data"
    },
    {
     "name": "stdout",
     "output_type": "stream",
     "text": [
      "LinearRegression areaUnderPR for train dataset: 0.9694515921839907\n",
      "LinearRegression areaUnderROC for train dataset: 0.9084236463411847\n",
      "LinearRegression areaUnderPR for test dataset: 0.9687004896898969\n",
      "LinearRegression areaUnderROC for test dataset: 0.9133905313145707"
     ]
    }
   ],
   "source": [
    "print(\"LinearRegression areaUnderPR for train dataset:\", binary_evaluator.evaluate(train_pre, {binary_evaluator.metricName:\"areaUnderPR\"}))\n",
    "print(\"LinearRegression areaUnderROC for train dataset:\", binary_evaluator.evaluate(train_pre, {binary_evaluator.metricName:\"areaUnderROC\"}))\n",
    "\n",
    "print(\"LinearRegression areaUnderPR for test dataset:\", binary_evaluator.evaluate(test_pre, {binary_evaluator.metricName:\"areaUnderPR\"}))\n",
    "print(\"LinearRegression areaUnderROC for test dataset:\", binary_evaluator.evaluate(test_pre, {binary_evaluator.metricName:\"areaUnderROC\"}))"
   ]
  },
  {
   "cell_type": "markdown",
   "metadata": {},
   "source": [
    "### LogistRegression"
   ]
  },
  {
   "cell_type": "code",
   "execution_count": 29,
   "metadata": {},
   "outputs": [
    {
     "data": {
      "application/vnd.jupyter.widget-view+json": {
       "model_id": "870f5fac7d504bfe9d52f1eea1046d55",
       "version_major": 2,
       "version_minor": 0
      },
      "text/plain": [
       "VBox()"
      ]
     },
     "metadata": {},
     "output_type": "display_data"
    },
    {
     "data": {
      "application/vnd.jupyter.widget-view+json": {
       "model_id": "",
       "version_major": 2,
       "version_minor": 0
      },
      "text/plain": [
       "FloatProgress(value=0.0, bar_style='info', description='Progress:', layout=Layout(height='25px', width='50%'),…"
      ]
     },
     "metadata": {},
     "output_type": "display_data"
    },
    {
     "name": "stderr",
     "output_type": "stream",
     "text": [
      "Exception in thread cell_monitor-29:\n",
      "Traceback (most recent call last):\n",
      "  File \"/opt/conda/lib/python3.7/threading.py\", line 917, in _bootstrap_inner\n",
      "    self.run()\n",
      "  File \"/opt/conda/lib/python3.7/threading.py\", line 865, in run\n",
      "    self._target(*self._args, **self._kwargs)\n",
      "  File \"/opt/conda/lib/python3.7/site-packages/awseditorssparkmonitoringwidget-1.0-py3.7.egg/awseditorssparkmonitoringwidget/cellmonitor.py\", line 178, in cell_monitor\n",
      "    job_binned_stages[job_id][stage_id] = all_stages[stage_id]\n",
      "KeyError: 1220\n",
      "\n"
     ]
    }
   ],
   "source": [
    "# build logistregression model\n",
    "logist_lr = LogisticRegression(labelCol=\"Churn\", featuresCol=\"features\")\n",
    "logist_model = logist_lr.fit(train_dataset)"
   ]
  },
  {
   "cell_type": "code",
   "execution_count": 30,
   "metadata": {},
   "outputs": [
    {
     "data": {
      "application/vnd.jupyter.widget-view+json": {
       "model_id": "8e40de7dd93b4791985a218ebd4d9165",
       "version_major": 2,
       "version_minor": 0
      },
      "text/plain": [
       "VBox()"
      ]
     },
     "metadata": {},
     "output_type": "display_data"
    },
    {
     "data": {
      "application/vnd.jupyter.widget-view+json": {
       "model_id": "",
       "version_major": 2,
       "version_minor": 0
      },
      "text/plain": [
       "FloatProgress(value=0.0, bar_style='info', description='Progress:', layout=Layout(height='25px', width='50%'),…"
      ]
     },
     "metadata": {},
     "output_type": "display_data"
    }
   ],
   "source": [
    "# train the dataset by using logist regression model\n",
    "train_pre_logist = logist_model.transform(train_dataset)\n",
    "test_pre_logist = logist_model.transform(test_dataset)"
   ]
  },
  {
   "cell_type": "code",
   "execution_count": 31,
   "metadata": {},
   "outputs": [
    {
     "data": {
      "application/vnd.jupyter.widget-view+json": {
       "model_id": "b9800434c3d849e0be4b8e2333638f0d",
       "version_major": 2,
       "version_minor": 0
      },
      "text/plain": [
       "VBox()"
      ]
     },
     "metadata": {},
     "output_type": "display_data"
    },
    {
     "data": {
      "application/vnd.jupyter.widget-view+json": {
       "model_id": "",
       "version_major": 2,
       "version_minor": 0
      },
      "text/plain": [
       "FloatProgress(value=0.0, bar_style='info', description='Progress:', layout=Layout(height='25px', width='50%'),…"
      ]
     },
     "metadata": {},
     "output_type": "display_data"
    },
    {
     "name": "stdout",
     "output_type": "stream",
     "text": [
      "LogistRegression Accuracy for train dataset: 0.8532386479957974\n",
      "LogistRegression Accuracy for test dataset: 0.8572162102619808"
     ]
    }
   ],
   "source": [
    "# use the evaluator the evaluate train and test dataset\n",
    "print(\"LogistRegression Accuracy for train dataset:\", evaluator.evaluate(train_pre_logist))\n",
    "print(\"LogistRegression Accuracy for test dataset:\", evaluator.evaluate(test_pre_logist))"
   ]
  },
  {
   "cell_type": "markdown",
   "metadata": {},
   "source": [
    "### RandomForest Regression"
   ]
  },
  {
   "cell_type": "code",
   "execution_count": 32,
   "metadata": {},
   "outputs": [
    {
     "data": {
      "application/vnd.jupyter.widget-view+json": {
       "model_id": "5b8c786e521143adb0fe6d1b9935556d",
       "version_major": 2,
       "version_minor": 0
      },
      "text/plain": [
       "VBox()"
      ]
     },
     "metadata": {},
     "output_type": "display_data"
    },
    {
     "data": {
      "application/vnd.jupyter.widget-view+json": {
       "model_id": "",
       "version_major": 2,
       "version_minor": 0
      },
      "text/plain": [
       "FloatProgress(value=0.0, bar_style='info', description='Progress:', layout=Layout(height='25px', width='50%'),…"
      ]
     },
     "metadata": {},
     "output_type": "display_data"
    }
   ],
   "source": [
    "# build RandomForest model\n",
    "forest = RandomForestClassifier(labelCol=\"Churn\", featuresCol=\"features\", maxDepth=10)\n",
    "forest_model = forest.fit(train_dataset)"
   ]
  },
  {
   "cell_type": "code",
   "execution_count": 33,
   "metadata": {},
   "outputs": [
    {
     "data": {
      "application/vnd.jupyter.widget-view+json": {
       "model_id": "2dcccf5c66414f41949dab192ebd614a",
       "version_major": 2,
       "version_minor": 0
      },
      "text/plain": [
       "VBox()"
      ]
     },
     "metadata": {},
     "output_type": "display_data"
    },
    {
     "data": {
      "application/vnd.jupyter.widget-view+json": {
       "model_id": "",
       "version_major": 2,
       "version_minor": 0
      },
      "text/plain": [
       "FloatProgress(value=0.0, bar_style='info', description='Progress:', layout=Layout(height='25px', width='50%'),…"
      ]
     },
     "metadata": {},
     "output_type": "display_data"
    }
   ],
   "source": [
    "# train the dataset by using Random Forest model\n",
    "train_pre_forest = forest_model.transform(train_dataset)\n",
    "test_pre_forest = forest_model.transform(test_dataset)"
   ]
  },
  {
   "cell_type": "code",
   "execution_count": 34,
   "metadata": {
    "scrolled": true
   },
   "outputs": [
    {
     "data": {
      "application/vnd.jupyter.widget-view+json": {
       "model_id": "ebef9695ea7c4f0ba996a077def874bc",
       "version_major": 2,
       "version_minor": 0
      },
      "text/plain": [
       "VBox()"
      ]
     },
     "metadata": {},
     "output_type": "display_data"
    },
    {
     "data": {
      "application/vnd.jupyter.widget-view+json": {
       "model_id": "",
       "version_major": 2,
       "version_minor": 0
      },
      "text/plain": [
       "FloatProgress(value=0.0, bar_style='info', description='Progress:', layout=Layout(height='25px', width='50%'),…"
      ]
     },
     "metadata": {},
     "output_type": "display_data"
    },
    {
     "name": "stdout",
     "output_type": "stream",
     "text": [
      "RandomForest Regression Accuracy for train dataset: 0.8642411776049367\n",
      "RandomForest Regression F1 Score for train dataset: 0.8670061781061109\n",
      "RandomForest Regression Accuracy for test dataset: 0.8525222551928784\n",
      "RandomForest Regression F1 for test dataset: 0.8514235493053522"
     ]
    }
   ],
   "source": [
    "print(\"RandomForest Regression Accuracy for train dataset:\", evaluator.evaluate(train_pre_forest, {evaluator.metricName:\"accuracy\"}))\n",
    "print(\"RandomForest Regression F1 Score for train dataset:\", evaluator.evaluate(train_pre_forest, {evaluator.metricName:\"f1\"}))\n",
    "\n",
    "print(\"RandomForest Regression Accuracy for test dataset:\", evaluator.evaluate(test_pre_forest, {evaluator.metricName:\"accuracy\"}))\n",
    "print(\"RandomForest Regression F1 for test dataset:\", evaluator.evaluate(test_pre_forest, {evaluator.metricName:\"f1\"}))"
   ]
  },
  {
   "cell_type": "markdown",
   "metadata": {},
   "source": [
    "### GridSearch"
   ]
  },
  {
   "cell_type": "code",
   "execution_count": 35,
   "metadata": {},
   "outputs": [
    {
     "data": {
      "application/vnd.jupyter.widget-view+json": {
       "model_id": "80ed5481aba8440280697fc2079f2e90",
       "version_major": 2,
       "version_minor": 0
      },
      "text/plain": [
       "VBox()"
      ]
     },
     "metadata": {},
     "output_type": "display_data"
    },
    {
     "data": {
      "application/vnd.jupyter.widget-view+json": {
       "model_id": "",
       "version_major": 2,
       "version_minor": 0
      },
      "text/plain": [
       "FloatProgress(value=0.0, bar_style='info', description='Progress:', layout=Layout(height='25px', width='50%'),…"
      ]
     },
     "metadata": {},
     "output_type": "display_data"
    }
   ],
   "source": [
    "linearregression_dict = {\n",
    "    lr.regParam: [0, 0.01, 0.1],\n",
    "    lr.fitIntercept: [True, False],\n",
    "    lr.maxIter: [10, 30, 50]\n",
    "}\n",
    "logistregression_dict = {\n",
    "    logist_lr.maxIter: [10, 30, 50],\n",
    "    logist_lr.fitIntercept: [True, False],\n",
    "    logist_lr.regParam: [0, 0.01, 0.1]\n",
    "}\n",
    "forest_dict = {forest.maxDepth : [5, 10, 30], \n",
    "            forest.minInstancesPerNode : [1, 10, 30], \n",
    "            forest.maxBins : [5, 10, 30], \n",
    "            forest.numTrees: [3, 10, 30]}"
   ]
  },
  {
   "cell_type": "code",
   "execution_count": 37,
   "metadata": {},
   "outputs": [
    {
     "data": {
      "application/vnd.jupyter.widget-view+json": {
       "model_id": "1b177298c360409c8c7bc443d159f4f4",
       "version_major": 2,
       "version_minor": 0
      },
      "text/plain": [
       "VBox()"
      ]
     },
     "metadata": {},
     "output_type": "display_data"
    },
    {
     "data": {
      "application/vnd.jupyter.widget-view+json": {
       "model_id": "",
       "version_major": 2,
       "version_minor": 0
      },
      "text/plain": [
       "FloatProgress(value=0.0, bar_style='info', description='Progress:', layout=Layout(height='25px', width='50%'),…"
      ]
     },
     "metadata": {},
     "output_type": "display_data"
    }
   ],
   "source": [
    "\n",
    "all_module_dicts = [linearregression_dict, logistregression_dict, forest_dict]\n",
    "params_maps = [reduce(lambda gb, param: gb.addGrid(*param), \n",
    "                    module.items(), \n",
    "                    ParamGridBuilder()).build() for module in all_module_dicts]\n",
    "\n",
    "all_module_names = [\"LinearRegression\", \"LogistRegression\", \"RandomForestRegression\"]\n",
    "all_modules = [lr, logist_lr, forest]\n",
    "all_evaluates = [binary_evaluator] + [evaluator] * 2\n",
    "all_module_combine = list(zip(all_module_names,all_modules, params_maps, all_evaluates))"
   ]
  },
  {
   "cell_type": "code",
   "execution_count": 43,
   "metadata": {},
   "outputs": [
    {
     "data": {
      "application/vnd.jupyter.widget-view+json": {
       "model_id": "6150b3d9e32d40b0ac1e0a4810a91325",
       "version_major": 2,
       "version_minor": 0
      },
      "text/plain": [
       "VBox()"
      ]
     },
     "metadata": {},
     "output_type": "display_data"
    },
    {
     "name": "stderr",
     "output_type": "stream",
     "text": [
      "An error was encountered:\n",
      "Invalid status code '404' from https://172.31.9.152:18888/sessions/0 with error payload: {\"msg\":\"Session '0' not found.\"}\n"
     ]
    }
   ],
   "source": [
    "modules = {}\n",
    "for module_name, module, param, eva in all_module_combine:\n",
    "    cross = CrossValidator(estimator=module, estimatorParamMaps=param, evaluator=eva ,numFolds=3)\n",
    "    cModel = cross.fit(train_dataset)\n",
    "    \n",
    "    train_result = cModel.transform(train_dataset)\n",
    "    test_result = cModel.transform(test_dataset)\n",
    "    accuracy, f1 = (\"accuracy\", \"f1\") if isinstance(eva, MulticlassClassificationEvaluator) else (\"areaUnderPR\", \"areaUnderROC\")\n",
    "    print(f\"{module_name} {accuracy.capitalize()} for Train dataset:\", eva.evaluate(train_result, {eva.metricName: accuracy}))\n",
    "    print(f\"{module_name} {f1.capitalize()} for Train dataset:\", eva.evaluate(train_result, {eva.metricName: f1}))\n",
    "\n",
    "    print(f\"{module_name} {accuracy.capitalize()} for Test dataset:\", eva.evaluate(test_result, {eva.metricName: accuracy}))\n",
    "    print(f\"{module_name} {f1.capitalize()} for Test dataset:\", eva.evaluate(test_result, {eva.metricName: f1}))\n",
    "    \n",
    "    print(f\"Best params for {module_name}:\", cModel.getEstimatorParamMaps()[np.argmax(cModel.avgMetrics)])\n",
    "    print()\n",
    "    \n",
    "    modules[module_name] = {\"module\": cModel, \"evaluator\": eva}"
   ]
  },
  {
   "cell_type": "code",
   "execution_count": 39,
   "metadata": {},
   "outputs": [
    {
     "data": {
      "application/vnd.jupyter.widget-view+json": {
       "model_id": "7ecd4f6d32114a28925c81d77f96c2c3",
       "version_major": 2,
       "version_minor": 0
      },
      "text/plain": [
       "VBox()"
      ]
     },
     "metadata": {},
     "output_type": "display_data"
    },
    {
     "name": "stderr",
     "output_type": "stream",
     "text": [
      "An error was encountered:\n",
      "Invalid status code '404' from https://172.31.9.152:18888/sessions/0 with error payload: {\"msg\":\"Session '0' not found.\"}\n"
     ]
    }
   ],
   "source": [
    "# base on final result , use linearregression as the final model\n",
    "final_module_dict = modules[\"LinearRegression\"]"
   ]
  },
  {
   "cell_type": "code",
   "execution_count": 40,
   "metadata": {},
   "outputs": [
    {
     "data": {
      "application/vnd.jupyter.widget-view+json": {
       "model_id": "6a818651f67d417bb63512802ae44658",
       "version_major": 2,
       "version_minor": 0
      },
      "text/plain": [
       "VBox()"
      ]
     },
     "metadata": {},
     "output_type": "display_data"
    },
    {
     "name": "stderr",
     "output_type": "stream",
     "text": [
      "An error was encountered:\n",
      "Invalid status code '404' from https://172.31.9.152:18888/sessions/0 with error payload: {\"msg\":\"Session '0' not found.\"}\n"
     ]
    }
   ],
   "source": [
    "final_module = final_module_dict[\"module\"]\n",
    "val_tr = final_module.transform(val_dataset)"
   ]
  },
  {
   "cell_type": "code",
   "execution_count": 41,
   "metadata": {},
   "outputs": [
    {
     "data": {
      "application/vnd.jupyter.widget-view+json": {
       "model_id": "e4ab84e5533a4e548895091c72d6b5c2",
       "version_major": 2,
       "version_minor": 0
      },
      "text/plain": [
       "VBox()"
      ]
     },
     "metadata": {},
     "output_type": "display_data"
    },
    {
     "name": "stderr",
     "output_type": "stream",
     "text": [
      "An error was encountered:\n",
      "Invalid status code '404' from https://172.31.9.152:18888/sessions/0 with error payload: {\"msg\":\"Session '0' not found.\"}\n"
     ]
    }
   ],
   "source": [
    "final_evalutor = final_module_dict[\"evaluator\"]\n",
    "print(\"Val dataset accuracy:\", final_evalutor.evaluate(val_pre, {final_evalutor.metricName: \"areaUnderPR\"}))"
   ]
  },
  {
   "cell_type": "code",
   "execution_count": 42,
   "metadata": {},
   "outputs": [
    {
     "data": {
      "application/vnd.jupyter.widget-view+json": {
       "model_id": "027fb4e286b04c18bc4052b740476ba3",
       "version_major": 2,
       "version_minor": 0
      },
      "text/plain": [
       "VBox()"
      ]
     },
     "metadata": {},
     "output_type": "display_data"
    },
    {
     "name": "stderr",
     "output_type": "stream",
     "text": [
      "An error was encountered:\n",
      "Invalid status code '404' from https://172.31.9.152:18888/sessions/0 with error payload: {\"msg\":\"Session '0' not found.\"}\n"
     ]
    }
   ],
   "source": [
    "# base on 3 model on test dataset, choose linearregression as the final model\n",
    "# val_prediction = model.transform(val_dataset)\n",
    "# print(\"Val dataset accuracy:\", evaluator.evaluate(val_prediction))"
   ]
  },
  {
   "cell_type": "markdown",
   "metadata": {},
   "source": [
    "###### Accuracy：准确率，该指标的高低能直接决定模型的完善程度，但需要结合训练集和测试集来下定论，如果训练集准确率太高，但训练集准确率过低，那模型就会过拟合；如果训练集和测试集的accuracy都太低，则说明欠拟合。\n",
    "\n",
    "###### 超参数调优：\n",
    "     对于随机森林模型，一开始使用的树根深度是10，其他参数默认的情况下拿捏不准具体参数，使用网格搜索后发现：maxDepth、minInstancesPerNode、maxBins、numTrees这几个超参数分别在 XX, XX, XX, XX的时候通过CrossValidator认为准确率最高；\n",
    "     对于线性回归模型：regParam、fitIntercept、maxIter分别为XX，XX，XX时准确率最高；\n",
    "     对于logic regression：regParam、fitIntercept、maxIter分别为XX，XX，XX时准确率最高。\n",
    "\n",
    "###### 难点：过程中发现超参数调优是比较难的，而且由于数据集庞大，每次运行都要花飞好长时间，在AWS里面时间意味着美元；但完成了第一版项目以后觉得各个模型之间的优势劣势和侧重点依然不太清晰明了，以上三个模型都是在心里牢记的模型，至于哪一个更适用于本次项目，脑海里始终是\"二元分类线性回归较好\"，对概念还不是很明确，可能在以后的工作中才能慢慢熟悉。\n",
    "\n",
    "###### 代码的改进：一开始没有使用网格搜索导致完全使用参数默认值去判定模型的优劣，这是不准确的，后来经过多次搜索后慢慢掌握了网格搜索的用法(课程里面的恕在下愚笨)，才慢慢通过网格搜索来对超参数进行调优。\n",
    "\n"
   ]
  }
 ],
 "metadata": {
  "kernelspec": {
   "display_name": "PySpark",
   "language": "",
   "name": "pysparkkernel"
  },
  "language_info": {
   "codemirror_mode": {
    "name": "python",
    "version": 2
   },
   "mimetype": "text/x-python",
   "name": "pyspark",
   "pygments_lexer": "python2"
  }
 },
 "nbformat": 4,
 "nbformat_minor": 4
}
