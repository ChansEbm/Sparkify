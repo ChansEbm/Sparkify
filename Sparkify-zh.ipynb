{
 "cells": [
  {
   "cell_type": "markdown",
   "metadata": {},
   "source": [
    "# Sparkify 项目 Workspace\n",
    "这个 Workspace 包括一个迷你的子数据集（128MB），是完整数据集（12GB）的一个子集。在将你的项目部署到云上之前，你可以自由使用 Workspace 来创建你的项目或用Spark来探索这个较小数据集。设置 Spark 集群的指南可以在选修 Spark 课程的内容里找到。\n",
    "\n",
    "你可以依照下面的步骤进行项目的数据分析和模型搭建部分。"
   ]
  },
  {
   "cell_type": "code",
   "execution_count": 1,
   "metadata": {},
   "outputs": [],
   "source": [
    "# import libraries\n",
    "from pyspark.sql import SparkSession\n",
    "from pyspark.sql.functions import udf, concat, col, desc, year, month, asc, count, avg, countDistinct\n",
    "from pyspark.sql.types import IntegerType\n",
    "import pyspark.sql.functions as func\n",
    "\n",
    "from pyspark.ml import Pipeline\n",
    "from pyspark.ml.evaluation import  MulticlassClassificationEvaluator\n",
    "from pyspark.ml.feature import VectorAssembler,Normalizer,StandardScaler,IDF,StringIndexer\n",
    "from pyspark.ml.regression import LinearRegression\n",
    "from pyspark.ml.classification import LogisticRegression, RandomForestClassifier\n",
    "from pyspark.ml.evaluation import BinaryClassificationEvaluator\n",
    "from pyspark.ml.tuning import ParamGridBuilder, CrossValidator\n",
    "from matplotlib import pyplot as plt\n",
    "from datetime import date\n"
   ]
  },
  {
   "cell_type": "code",
   "execution_count": 2,
   "metadata": {},
   "outputs": [],
   "source": [
    "# create a Spark session\n",
    "spark = SparkSession.builder.appName(\"sparkify\").getOrCreate()"
   ]
  },
  {
   "cell_type": "markdown",
   "metadata": {},
   "source": [
    "# 加载和清洗数据\n",
    "在这个 Workspace 中，小数据集的名称是 `mini_sparkify_event_data.json`.加载和清洗数据集，检查是否有无效或缺失数据——例如，没有userid或sessionid的数据。 "
   ]
  },
  {
   "cell_type": "code",
   "execution_count": 3,
   "metadata": {},
   "outputs": [
    {
     "data": {
      "text/plain": [
       "Row(artist='Martha Tilston', auth='Logged In', firstName='Colin', gender='M', itemInSession=50, lastName='Freeman', length=277.89016, level='paid', location='Bakersfield, CA', method='PUT', page='NextSong', registration=1538173362000, sessionId=29, song='Rockpools', status=200, ts=1538352117000, userAgent='Mozilla/5.0 (Windows NT 6.1; WOW64; rv:31.0) Gecko/20100101 Firefox/31.0', userId='30')"
      ]
     },
     "execution_count": 3,
     "metadata": {},
     "output_type": "execute_result"
    }
   ],
   "source": [
    "data = spark.read.json(\"mini_sparkify_event_data.json\")\n",
    "data.head()"
   ]
  },
  {
   "cell_type": "code",
   "execution_count": 4,
   "metadata": {},
   "outputs": [
    {
     "data": {
      "text/plain": [
       "(0, 550)"
      ]
     },
     "execution_count": 4,
     "metadata": {},
     "output_type": "execute_result"
    },
    {
     "data": {
      "image/png": "[encoded data removed]",
      "text/plain": [
       "<matplotlib.figure.Figure at 0x7f0be1a2ec18>"
      ]
     },
     "metadata": {
      "needs_background": "light"
     },
     "output_type": "display_data"
    }
   ],
   "source": [
    "# length visual\n",
    "data_pd = data.select(\"length\").toPandas()\n",
    "data_pd.plot(kind = \"hist\", bins = 500)\n",
    "plt.xlim(0, 550)"
   ]
  },
  {
   "cell_type": "code",
   "execution_count": 5,
   "metadata": {},
   "outputs": [],
   "source": [
    "data = data.dropna(how = \"any\",subset=[\"userId\",\"sessionId\"])"
   ]
  },
  {
   "cell_type": "code",
   "execution_count": 6,
   "metadata": {},
   "outputs": [],
   "source": [
    "data = data.filter(data[\"userId\"] != \"\")"
   ]
  },
  {
   "cell_type": "code",
   "execution_count": 7,
   "metadata": {},
   "outputs": [
    {
     "data": {
      "text/plain": [
       "278154"
      ]
     },
     "execution_count": 7,
     "metadata": {},
     "output_type": "execute_result"
    }
   ],
   "source": [
    "data.count()"
   ]
  },
  {
   "cell_type": "markdown",
   "metadata": {},
   "source": [
    "# 探索性数据分析\n",
    "当你使用完整数据集时，通过加载小数据集，在 Spark 中完成基础操作来实现探索性数据分析。在这个 Workspace 中，我们已经提供给你一个你可以探索的小数据集。\n",
    "\n",
    "### 定义客户流失\n",
    "\n",
    "在你完成初步分析之后，创建一列 `Churn` 作为模型的标签。我建议你使用 `Cancellation Confirmation` 事件来定义客户流失，该事件在付费或免费客户身上都有发生。作为一个奖励任务，你也可以深入了解 `Downgrade` 事件。\n",
    "\n",
    "### 探索数据\n",
    "你定义好客户流失后，就可以执行一些探索性数据分析，观察留存用户和流失用户的行为。你可以首先把这两类用户的数据聚合到一起，观察固定时间内某个特定动作出现的次数或者播放音乐的数量。"
   ]
  },
  {
   "cell_type": "code",
   "execution_count": 8,
   "metadata": {},
   "outputs": [],
   "source": [
    "churn_func = udf(lambda x: 1 if x == \"Cancellation Confirmation\" or x == \"Downgrade\" else 0, IntegerType())"
   ]
  },
  {
   "cell_type": "code",
   "execution_count": 9,
   "metadata": {},
   "outputs": [],
   "source": [
    "data = data.withColumn(\"Churn\", churn_func(data.page))"
   ]
  },
  {
   "cell_type": "code",
   "execution_count": 10,
   "metadata": {},
   "outputs": [],
   "source": [
    "get_datetime_func = udf(lambda x : date.fromtimestamp(x/1000).isoformat())\n",
    "data = data.withColumn(\"dt\", get_datetime_func(data.ts))"
   ]
  },
  {
   "cell_type": "code",
   "execution_count": 11,
   "metadata": {},
   "outputs": [
    {
     "name": "stdout",
     "output_type": "stream",
     "text": [
      "+------+----------+-----+---------------+---+\n",
      "|userId|        dt|Churn|           page| cp|\n",
      "+------+----------+-----+---------------+---+\n",
      "|    99|2018-11-27|    0|     Add Friend|  2|\n",
      "|    99|2018-11-27|    0|           Home|  3|\n",
      "|    99|2018-11-27|    0|       NextSong|107|\n",
      "|    99|2018-11-27|    0|    Thumbs Down|  1|\n",
      "|    99|2018-11-27|    0|         Logout|  2|\n",
      "|    99|2018-11-27|    1|      Downgrade|  1|\n",
      "|    99|2018-11-27|    0|Add to Playlist|  3|\n",
      "|    99|2018-11-27|    0|      Thumbs Up|  7|\n",
      "|    99|2018-11-26|    0|      Thumbs Up|  2|\n",
      "|    99|2018-11-26|    0|       NextSong|  5|\n",
      "|    99|2018-11-24|    1|      Downgrade|  1|\n",
      "|    99|2018-11-24|    0|    Thumbs Down|  1|\n",
      "|    99|2018-11-24|    0|      Thumbs Up|  6|\n",
      "|    99|2018-11-24|    0|Add to Playlist|  4|\n",
      "|    99|2018-11-24|    0|       NextSong|118|\n",
      "|    99|2018-11-24|    0|         Logout|  2|\n",
      "|    99|2018-11-24|    0|           Home|  4|\n",
      "|    99|2018-11-24|    0|           Help|  1|\n",
      "|    99|2018-11-24|    0|     Add Friend|  4|\n",
      "|    99|2018-11-22|    0|      Thumbs Up|  3|\n",
      "+------+----------+-----+---------------+---+\n",
      "only showing top 20 rows\n",
      "\n"
     ]
    }
   ],
   "source": [
    "data.groupBy([\"userId\",\"dt\",\"Churn\",\"page\"]) \\\n",
    "    .agg({\"page\":\"count\"}) \\\n",
    "    .withColumnRenamed(\"count(page)\",\"cp\") \\\n",
    "    .orderBy([desc(\"userId\"),desc(\"dt\")]).show()"
   ]
  },
  {
   "cell_type": "markdown",
   "metadata": {},
   "source": [
    "# 特征工程\n",
    "熟悉了数据之后，就可以构建你认为会对训练模型帮助最大的特征。要处理完整数据集，你可以按照下述步骤：\n",
    "- 写一个脚本来从小数据集中提取你需要的特征\n",
    "- 确保你的脚本可以拓展到大数据集上，使用之前教过的最佳实践原则\n",
    "- 在完整数据集上运行你的脚本，按运行情况调试代码\n",
    "\n",
    "如果是在教室的 workspace，你可以直接用里面提供的小数据集来提取特征。确保当你开始使用 Spark 集群的时候，把上述的成果迁移到大数据集上。"
   ]
  },
  {
   "cell_type": "markdown",
   "metadata": {},
   "source": [
    "### Numberic Features"
   ]
  },
  {
   "cell_type": "code",
   "execution_count": 12,
   "metadata": {},
   "outputs": [],
   "source": [
    "# count songs\n",
    "df_songs = data.groupBy(\"userId\").agg(countDistinct(\"song\").alias(\"countSong\")).orderBy(\"userId\")"
   ]
  },
  {
   "cell_type": "code",
   "execution_count": 13,
   "metadata": {},
   "outputs": [],
   "source": [
    "# calc avg listen time\n",
    "df_avg_length = data.groupBy(\"userId\").agg(avg(\"length\").alias(\"avgLength\")).orderBy(\"userId\")"
   ]
  },
  {
   "cell_type": "code",
   "execution_count": 14,
   "metadata": {},
   "outputs": [],
   "source": [
    "# count all artist for each user\n",
    "df_singers = data.dropDuplicates([\"userId\", \"artist\"]).groupBy(\"userId\").agg(count(\"artist\").alias(\"countArtist\")).orderBy(\"userId\")"
   ]
  },
  {
   "cell_type": "markdown",
   "metadata": {},
   "source": [
    "### Category Features"
   ]
  },
  {
   "cell_type": "code",
   "execution_count": 15,
   "metadata": {},
   "outputs": [],
   "source": [
    "# select category features\n",
    "df_catgory = data.select([\"userId\", \"gender\", \"level\", \"location\", \"method\"])"
   ]
  },
  {
   "cell_type": "code",
   "execution_count": 16,
   "metadata": {},
   "outputs": [],
   "source": [
    "df_catgory = df_catgory.dropDuplicates([\"userId\"]).orderBy(desc(\"userId\"))"
   ]
  },
  {
   "cell_type": "code",
   "execution_count": 17,
   "metadata": {},
   "outputs": [],
   "source": [
    "#  user may have 2 Churn values, we keep value 1 only\n",
    "df_calced = data.select(\"Churn\",\"userId\").orderBy(desc(\"Churn\")).dropDuplicates([\"userId\"])"
   ]
  },
  {
   "cell_type": "code",
   "execution_count": 18,
   "metadata": {},
   "outputs": [],
   "source": [
    "# join all features\n",
    "for feature in [df_songs, df_avg_length, df_singers, df_catgory]:\n",
    "    df_calced = df_calced.join(feature, [\"userId\"], how=\"left\")"
   ]
  },
  {
   "cell_type": "code",
   "execution_count": 19,
   "metadata": {},
   "outputs": [],
   "source": [
    "df_calced = df_calced.na.drop()"
   ]
  },
  {
   "cell_type": "code",
   "execution_count": 20,
   "metadata": {},
   "outputs": [],
   "source": [
    "# convert category features to numberic\n",
    "for index in [\"gender\", \"level\", \"location\", \"method\"]:\n",
    "    indexer = StringIndexer(inputCol=index, outputCol=f\"{index}Indexer\")\n",
    "    _fit = indexer.fit(df_calced)\n",
    "    df_calced = _fit.transform(df_calced)"
   ]
  },
  {
   "cell_type": "code",
   "execution_count": 21,
   "metadata": {},
   "outputs": [],
   "source": [
    "assembler = VectorAssembler(inputCols=[\"countSong\", \"avgLength\", \"countArtist\", \"genderIndexer\", \"levelIndexer\", \"locationIndexer\", \"methodIndexer\"], outputCol=\"featuresVec\")\n",
    "df_calced = assembler.transform(df_calced)"
   ]
  },
  {
   "cell_type": "code",
   "execution_count": 22,
   "metadata": {},
   "outputs": [],
   "source": [
    "stander = StandardScaler(inputCol=\"featuresVec\", outputCol=\"features\")\n",
    "stander_fit = stander.fit(df_calced)\n",
    "df_calced = stander_fit.transform(df_calced)"
   ]
  },
  {
   "cell_type": "code",
   "execution_count": 23,
   "metadata": {},
   "outputs": [],
   "source": [
    "drop_columns = [\"userId\", \"gender\", \"level\", \"location\", \"method\"]\n",
    "for column in drop_columns:\n",
    "    df_calced = df_calced.drop(column)"
   ]
  },
  {
   "cell_type": "code",
   "execution_count": 24,
   "metadata": {},
   "outputs": [
    {
     "data": {
      "text/plain": [
       "[Row(Churn=0, countSong=269, avgLength=243.421444909091, countArtist=252, genderIndexer=1.0, levelIndexer=0.0, locationIndexer=26.0, methodIndexer=1.0, featuresVec=DenseVector([269.0, 243.4214, 252.0, 1.0, 0.0, 26.0, 1.0]), features=DenseVector([0.3001, 40.9675, 0.4173, 2.0013, 0.0, 0.7691, 1.996]))]"
      ]
     },
     "execution_count": 24,
     "metadata": {},
     "output_type": "execute_result"
    }
   ],
   "source": [
    "df_calced.take(1)"
   ]
  },
  {
   "cell_type": "markdown",
   "metadata": {},
   "source": [
    "# 建模\n",
    "将完整数据集分成训练集、测试集和验证集。测试几种你学过的机器学习方法。评价不同机器学习方法的准确率，根据情况调节参数。根据准确率你挑选出表现最好的那个模型，然后报告在训练集上的结果。因为流失顾客数据集很小，我建议选用 F1 score 作为优化指标。"
   ]
  },
  {
   "cell_type": "code",
   "execution_count": 25,
   "metadata": {},
   "outputs": [],
   "source": [
    "train, test, val = df_calced.randomSplit([0.7, 0.15, 0.15], seed = 58)"
   ]
  },
  {
   "cell_type": "markdown",
   "metadata": {},
   "source": [
    "### LinearRegression"
   ]
  },
  {
   "cell_type": "code",
   "execution_count": 26,
   "metadata": {},
   "outputs": [],
   "source": [
    "lr = LinearRegression(labelCol=\"Churn\", featuresCol=\"features\", fitIntercept=False, regParam=0.0, solver=\"normal\")\n",
    "model = lr.fit(train) "
   ]
  },
  {
   "cell_type": "code",
   "execution_count": 27,
   "metadata": {},
   "outputs": [],
   "source": [
    "train_pre = model.transform(train)\n",
    "test_pre = model.transform(test)"
   ]
  },
  {
   "cell_type": "code",
   "execution_count": 28,
   "metadata": {},
   "outputs": [],
   "source": [
    "evaluator = BinaryClassificationEvaluator(rawPredictionCol=\"prediction\",labelCol=\"Churn\")"
   ]
  },
  {
   "cell_type": "code",
   "execution_count": 29,
   "metadata": {},
   "outputs": [
    {
     "name": "stdout",
     "output_type": "stream",
     "text": [
      "LinearRegression Accuracy for train dataset: 0.8995205336668749\n",
      "LinearRegression Accuracy for test dataset: 0.9357142857142857\n"
     ]
    }
   ],
   "source": [
    "print(\"LinearRegression Accuracy for train dataset:\", evaluator.evaluate(train_pre))\n",
    "print(\"LinearRegression Accuracy for test dataset:\", evaluator.evaluate(test_pre))"
   ]
  },
  {
   "cell_type": "markdown",
   "metadata": {},
   "source": [
    "### LogistRegression"
   ]
  },
  {
   "cell_type": "code",
   "execution_count": 30,
   "metadata": {},
   "outputs": [],
   "source": [
    "logist_lr = LogisticRegression(labelCol=\"Churn\", featuresCol=\"features\")\n",
    "logist_model = logist_lr.fit(train)"
   ]
  },
  {
   "cell_type": "code",
   "execution_count": 31,
   "metadata": {},
   "outputs": [],
   "source": [
    "train_pre_logist = logist_model.transform(train)\n",
    "test_pre_logist = logist_model.transform(test)"
   ]
  },
  {
   "cell_type": "code",
   "execution_count": 32,
   "metadata": {},
   "outputs": [
    {
     "name": "stdout",
     "output_type": "stream",
     "text": [
      "LogistRegression Accuracy for train dataset: 0.8627267041901189\n",
      "LogistRegression Accuracy for test dataset: 0.8107142857142858\n"
     ]
    }
   ],
   "source": [
    "print(\"LogistRegression Accuracy for train dataset:\", evaluator.evaluate(train_pre_logist))\n",
    "print(\"LogistRegression Accuracy for test dataset:\", evaluator.evaluate(test_pre_logist))"
   ]
  },
  {
   "cell_type": "markdown",
   "metadata": {},
   "source": [
    "### RandomForest Regression"
   ]
  },
  {
   "cell_type": "code",
   "execution_count": 33,
   "metadata": {},
   "outputs": [],
   "source": [
    "forest = RandomForestClassifier(labelCol=\"Churn\", featuresCol=\"features\", maxDepth=10)\n",
    "forest_model = forest.fit(train)"
   ]
  },
  {
   "cell_type": "code",
   "execution_count": 34,
   "metadata": {},
   "outputs": [],
   "source": [
    "train_pre_forest = forest_model.transform(train)\n",
    "test_pre_forest = forest_model.transform(test)"
   ]
  },
  {
   "cell_type": "code",
   "execution_count": 35,
   "metadata": {},
   "outputs": [
    {
     "name": "stdout",
     "output_type": "stream",
     "text": [
      "RandomForest Regression Accuracy for train dataset: 1.0\n",
      "RandomForest Regression Accuracy for test dataset: 0.8285714285714286\n"
     ]
    }
   ],
   "source": [
    "print(\"RandomForest Regression Accuracy for train dataset:\", evaluator.evaluate(train_pre_forest))\n",
    "print(\"RandomForest Regression Accuracy for test dataset:\", evaluator.evaluate(test_pre_forest))"
   ]
  },
  {
   "cell_type": "code",
   "execution_count": 36,
   "metadata": {},
   "outputs": [
    {
     "name": "stdout",
     "output_type": "stream",
     "text": [
      "Val dataset accuracy: 0.8701923076923077\n"
     ]
    }
   ],
   "source": [
    "# base on final result , use linearregression as the final model\n",
    "val_pre = model.transform(val)\n",
    "print(\"Val dataset accuracy:\", evaluator.evaluate(val_pre))"
   ]
  },
  {
   "cell_type": "markdown",
   "metadata": {},
   "source": [
    "# 最后一步\n",
    "清理你的代码，添加注释和重命名变量，使得代码更易读和易于维护。参考 Spark 项目概述页面和数据科学家毕业项目审阅要求，确保你的项目包含了毕业项目要求的所有内容，并且满足所有审阅要求。记得在 GitHub 代码库里包含一份全面的文档——README文件，以及一个网络应用程序或博客文章。"
   ]
  },
  {
   "cell_type": "code",
   "execution_count": null,
   "metadata": {},
   "outputs": [],
   "source": []
  }
 ],
 "metadata": {
  "kernelspec": {
   "display_name": "Python 3",
   "language": "python",
   "name": "python3"
  },
  "language_info": {
   "codemirror_mode": {
    "name": "ipython",
    "version": 3
   },
   "file_extension": ".py",
   "mimetype": "text/x-python",
   "name": "python",
   "nbconvert_exporter": "python",
   "pygments_lexer": "ipython3",
   "version": "3.6.3"
  }
 },
 "nbformat": 4,
 "nbformat_minor": 2
}
