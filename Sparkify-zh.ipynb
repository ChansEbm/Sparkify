{
 "cells": [
  {
   "cell_type": "markdown",
   "metadata": {},
   "source": [
    "# Sparkify 项目 Workspace\n",
    "这个 Workspace 包括一个迷你的子数据集（128MB），是完整数据集（12GB）的一个子集。在将你的项目部署到云上之前，你可以自由使用 Workspace 来创建你的项目或用Spark来探索这个较小数据集。设置 Spark 集群的指南可以在选修 Spark 课程的内容里找到。\n",
    "\n",
    "你可以依照下面的步骤进行项目的数据分析和模型搭建部分。"
   ]
  },
  {
   "cell_type": "code",
   "execution_count": 1,
   "metadata": {},
   "outputs": [],
   "source": [
    "# import libraries\n",
    "from pyspark.sql import SparkSession\n",
    "from pyspark.sql.functions import udf, concat, col, desc, year, month, asc, count, avg, countDistinct\n",
    "from pyspark.sql.types import IntegerType\n",
    "import pyspark.sql.functions as func\n",
    "\n",
    "from pyspark.ml import Pipeline\n",
    "from pyspark.ml.evaluation import  MulticlassClassificationEvaluator\n",
    "from pyspark.ml.feature import VectorAssembler,Normalizer,StandardScaler,IDF,StringIndexer\n",
    "from pyspark.ml.regression import LinearRegression\n",
    "from pyspark.ml.classification import LogisticRegression, RandomForestClassifier\n",
    "from pyspark.ml.evaluation import BinaryClassificationEvaluator\n",
    "from pyspark.ml.tuning import ParamGridBuilder, CrossValidator\n",
    "from matplotlib import pyplot as plt\n",
    "from datetime import date\n",
    "from functools import reduce\n",
    "import numpy as np"
   ]
  },
  {
   "cell_type": "code",
   "execution_count": 2,
   "metadata": {},
   "outputs": [],
   "source": [
    "# create a Spark session\n",
    "spark = SparkSession.builder.appName(\"sparkify\").getOrCreate()"
   ]
  },
  {
   "cell_type": "markdown",
   "metadata": {},
   "source": [
    "# 加载和清洗数据\n",
    "在这个 Workspace 中，小数据集的名称是 `mini_sparkify_event_data.json`.加载和清洗数据集，检查是否有无效或缺失数据——例如，没有userid或sessionid的数据。 "
   ]
  },
  {
   "cell_type": "code",
   "execution_count": 3,
   "metadata": {},
   "outputs": [
    {
     "data": {
      "text/plain": [
       "Row(artist='Martha Tilston', auth='Logged In', firstName='Colin', gender='M', itemInSession=50, lastName='Freeman', length=277.89016, level='paid', location='Bakersfield, CA', method='PUT', page='NextSong', registration=1538173362000, sessionId=29, song='Rockpools', status=200, ts=1538352117000, userAgent='Mozilla/5.0 (Windows NT 6.1; WOW64; rv:31.0) Gecko/20100101 Firefox/31.0', userId='30')"
      ]
     },
     "execution_count": 3,
     "metadata": {},
     "output_type": "execute_result"
    }
   ],
   "source": [
    "data = spark.read.json(\"mini_sparkify_event_data.json\")\n",
    "data.head()"
   ]
  },
  {
   "cell_type": "code",
   "execution_count": 4,
   "metadata": {},
   "outputs": [],
   "source": [
    "data = data.dropna(how = \"any\",subset=[\"userId\",\"sessionId\"])"
   ]
  },
  {
   "cell_type": "code",
   "execution_count": 5,
   "metadata": {},
   "outputs": [],
   "source": [
    "data = data.filter(data[\"userId\"] != \"\")"
   ]
  },
  {
   "cell_type": "code",
   "execution_count": 6,
   "metadata": {},
   "outputs": [
    {
     "data": {
      "text/plain": [
       "278154"
      ]
     },
     "execution_count": 6,
     "metadata": {},
     "output_type": "execute_result"
    }
   ],
   "source": [
    "data.count()"
   ]
  },
  {
   "cell_type": "markdown",
   "metadata": {},
   "source": [
    "# 探索性数据分析\n",
    "当你使用完整数据集时，通过加载小数据集，在 Spark 中完成基础操作来实现探索性数据分析。在这个 Workspace 中，我们已经提供给你一个你可以探索的小数据集。\n",
    "\n",
    "### 定义客户流失\n",
    "\n",
    "在你完成初步分析之后，创建一列 `Churn` 作为模型的标签。我建议你使用 `Cancellation Confirmation` 事件来定义客户流失，该事件在付费或免费客户身上都有发生。作为一个奖励任务，你也可以深入了解 `Downgrade` 事件。\n",
    "\n",
    "### 探索数据\n",
    "你定义好客户流失后，就可以执行一些探索性数据分析，观察留存用户和流失用户的行为。你可以首先把这两类用户的数据聚合到一起，观察固定时间内某个特定动作出现的次数或者播放音乐的数量。"
   ]
  },
  {
   "cell_type": "code",
   "execution_count": 7,
   "metadata": {},
   "outputs": [],
   "source": [
    "churn_func = udf(lambda x: 1 if x == \"Cancellation Confirmation\" or x == \"Downgrade\" else 0, IntegerType())"
   ]
  },
  {
   "cell_type": "code",
   "execution_count": 8,
   "metadata": {},
   "outputs": [],
   "source": [
    "data = data.withColumn(\"Churn\", churn_func(data.page))"
   ]
  },
  {
   "cell_type": "code",
   "execution_count": 9,
   "metadata": {},
   "outputs": [],
   "source": [
    "get_datetime_func = udf(lambda x : date.fromtimestamp(x/1000).isoformat())\n",
    "data = data.withColumn(\"dt\", get_datetime_func(data.ts))"
   ]
  },
  {
   "cell_type": "code",
   "execution_count": 10,
   "metadata": {},
   "outputs": [],
   "source": [
    "df_groupBy = data.groupBy([\"userId\",\"dt\",\"Churn\",\"page\"]) \\\n",
    "    .agg({\"page\":\"count\"}) \\\n",
    "    .withColumnRenamed(\"count(page)\",\"cp\") \\\n",
    "    .orderBy([desc(\"userId\"),desc(\"dt\")])"
   ]
  },
  {
   "cell_type": "code",
   "execution_count": 11,
   "metadata": {},
   "outputs": [
    {
     "data": {
      "text/plain": [
       "(0, 550)"
      ]
     },
     "execution_count": 11,
     "metadata": {},
     "output_type": "execute_result"
    },
    {
     "data": {
      "image/png": "[encoded data removed]",
      "text/plain": [
       "<Figure size 432x288 with 1 Axes>"
      ]
     },
     "metadata": {
      "needs_background": "light"
     },
     "output_type": "display_data"
    }
   ],
   "source": [
    "# length visual\n",
    "length_pd = data.select(\"length\").toPandas()\n",
    "length_pd.plot(kind = \"hist\", bins = 500)\n",
    "plt.xlim(0, 550)"
   ]
  },
  {
   "cell_type": "code",
   "execution_count": 12,
   "metadata": {},
   "outputs": [
    {
     "data": {
      "text/plain": [
       "<matplotlib.axes._subplots.AxesSubplot at 0x1f949cfa860>"
      ]
     },
     "execution_count": 12,
     "metadata": {},
     "output_type": "execute_result"
    },
    {
     "data": {
      "image/png": "[encoded data removed]",
      "text/plain": [
       "<Figure size 432x288 with 1 Axes>"
      ]
     },
     "metadata": {
      "needs_background": "light"
     },
     "output_type": "display_data"
    }
   ],
   "source": [
    "gender_pd = data.orderBy(desc(\"Churn\")).dropDuplicates(subset = [\"userId\"]).where(col(\"Churn\") == 1).groupBy(\"gender\").agg(count(\"gender\").alias(\"count\")).toPandas()\n",
    "gender_pd.plot(kind = \"bar\", x = \"gender\", y = \"count\", title = \"Gender Ratio\")"
   ]
  },
  {
   "cell_type": "markdown",
   "metadata": {},
   "source": [
    "# 特征工程\n",
    "熟悉了数据之后，就可以构建你认为会对训练模型帮助最大的特征。要处理完整数据集，你可以按照下述步骤：\n",
    "- 写一个脚本来从小数据集中提取你需要的特征\n",
    "- 确保你的脚本可以拓展到大数据集上，使用之前教过的最佳实践原则\n",
    "- 在完整数据集上运行你的脚本，按运行情况调试代码\n",
    "\n",
    "如果是在教室的 workspace，你可以直接用里面提供的小数据集来提取特征。确保当你开始使用 Spark 集群的时候，把上述的成果迁移到大数据集上。"
   ]
  },
  {
   "cell_type": "markdown",
   "metadata": {},
   "source": [
    "### Numberic Features"
   ]
  },
  {
   "cell_type": "code",
   "execution_count": 13,
   "metadata": {},
   "outputs": [],
   "source": [
    "# count songs\n",
    "df_songs = data.groupBy(\"userId\").agg(countDistinct(\"song\").alias(\"countSong\")).orderBy(\"userId\")"
   ]
  },
  {
   "cell_type": "code",
   "execution_count": 14,
   "metadata": {},
   "outputs": [],
   "source": [
    "# calc avg listen time\n",
    "df_avg_length = data.groupBy(\"userId\").agg(avg(\"length\").alias(\"avgLength\")).orderBy(\"userId\")"
   ]
  },
  {
   "cell_type": "code",
   "execution_count": 15,
   "metadata": {},
   "outputs": [],
   "source": [
    "# count all artist for each user\n",
    "df_singers = data.dropDuplicates([\"userId\", \"artist\"]).groupBy(\"userId\").agg(count(\"artist\").alias(\"countArtist\")).orderBy(\"userId\")"
   ]
  },
  {
   "cell_type": "markdown",
   "metadata": {},
   "source": [
    "### Category Features"
   ]
  },
  {
   "cell_type": "code",
   "execution_count": 16,
   "metadata": {},
   "outputs": [],
   "source": [
    "# select category features\n",
    "df_catgory = data.select([\"userId\", \"gender\", \"level\", \"location\", \"method\"])"
   ]
  },
  {
   "cell_type": "code",
   "execution_count": 17,
   "metadata": {},
   "outputs": [],
   "source": [
    "df_catgory = df_catgory.dropDuplicates([\"userId\"]).orderBy(desc(\"userId\"))"
   ]
  },
  {
   "cell_type": "code",
   "execution_count": 18,
   "metadata": {},
   "outputs": [],
   "source": [
    "#  user may have 2 Churn values, we keep value 1 only\n",
    "df_calced = data.select(\"Churn\",\"userId\").orderBy(desc(\"Churn\")).dropDuplicates([\"userId\"])"
   ]
  },
  {
   "cell_type": "code",
   "execution_count": 19,
   "metadata": {},
   "outputs": [],
   "source": [
    "# join all features\n",
    "for feature in [df_songs, df_avg_length, df_singers, df_catgory]:\n",
    "    df_calced = df_calced.join(feature, [\"userId\"], how=\"left\")"
   ]
  },
  {
   "cell_type": "code",
   "execution_count": 20,
   "metadata": {},
   "outputs": [],
   "source": [
    "df_calced = df_calced.na.drop()"
   ]
  },
  {
   "cell_type": "code",
   "execution_count": 21,
   "metadata": {},
   "outputs": [],
   "source": [
    "# convert category features to numberic\n",
    "for index in [\"gender\", \"level\", \"location\", \"method\"]:\n",
    "    indexer = StringIndexer(inputCol=index, outputCol=f\"{index}Indexer\")\n",
    "    _fit = indexer.fit(df_calced)\n",
    "    df_calced = _fit.transform(df_calced)"
   ]
  },
  {
   "cell_type": "code",
   "execution_count": 22,
   "metadata": {},
   "outputs": [],
   "source": [
    "assembler = VectorAssembler(inputCols=[\"countSong\", \"avgLength\", \"countArtist\", \"genderIndexer\", \"levelIndexer\", \"locationIndexer\", \"methodIndexer\"], outputCol=\"featuresVec\")\n",
    "df_calced = assembler.transform(df_calced)"
   ]
  },
  {
   "cell_type": "code",
   "execution_count": 23,
   "metadata": {},
   "outputs": [],
   "source": [
    "stander = StandardScaler(inputCol=\"featuresVec\", outputCol=\"features\")\n",
    "stander_fit = stander.fit(df_calced)\n",
    "df_calced = stander_fit.transform(df_calced)"
   ]
  },
  {
   "cell_type": "code",
   "execution_count": 24,
   "metadata": {},
   "outputs": [],
   "source": [
    "drop_columns = [\"userId\", \"gender\", \"level\", \"location\", \"method\"]\n",
    "for column in drop_columns:\n",
    "    df_calced = df_calced.drop(column)"
   ]
  },
  {
   "cell_type": "markdown",
   "metadata": {},
   "source": [
    "# 建模\n",
    "将完整数据集分成训练集、测试集和验证集。测试几种你学过的机器学习方法。评价不同机器学习方法的准确率，根据情况调节参数。根据准确率你挑选出表现最好的那个模型，然后报告在训练集上的结果。因为流失顾客数据集很小，我建议选用 F1 score 作为优化指标。"
   ]
  },
  {
   "cell_type": "code",
   "execution_count": 25,
   "metadata": {},
   "outputs": [],
   "source": [
    "train, test, val = df_calced.randomSplit([0.7, 0.15, 0.15], seed = 58)"
   ]
  },
  {
   "cell_type": "code",
   "execution_count": 26,
   "metadata": {},
   "outputs": [],
   "source": [
    "evaluator = MulticlassClassificationEvaluator(predictionCol=\"prediction\", labelCol=\"Churn\")\n",
    "binary_evaluator = BinaryClassificationEvaluator(labelCol=\"Churn\", rawPredictionCol=\"prediction\")"
   ]
  },
  {
   "cell_type": "code",
   "execution_count": 27,
   "metadata": {},
   "outputs": [
    {
     "data": {
      "text/plain": [
       "Param(parent='BinaryClassificationEvaluator_4160d3f948fa', name='metricName', doc='metric name in evaluation (areaUnderROC|areaUnderPR)')"
      ]
     },
     "execution_count": 27,
     "metadata": {},
     "output_type": "execute_result"
    }
   ],
   "source": [
    "binary_evaluator.metricName"
   ]
  },
  {
   "cell_type": "markdown",
   "metadata": {},
   "source": [
    "### LinearRegression"
   ]
  },
  {
   "cell_type": "code",
   "execution_count": 28,
   "metadata": {},
   "outputs": [],
   "source": [
    "lr = LinearRegression(labelCol=\"Churn\", featuresCol=\"features\")\n",
    "model = lr.fit(train) "
   ]
  },
  {
   "cell_type": "code",
   "execution_count": 29,
   "metadata": {},
   "outputs": [],
   "source": [
    "train_pre = model.transform(train)\n",
    "test_pre = model.transform(test)"
   ]
  },
  {
   "cell_type": "code",
   "execution_count": 30,
   "metadata": {},
   "outputs": [
    {
     "name": "stdout",
     "output_type": "stream",
     "text": [
      "LinearRegression Accuracy for train dataset: 0.969736362221957\n",
      "LinearRegression F1 for train dataset: 0.9076506149676878\n"
     ]
    }
   ],
   "source": [
    "print(\"LinearRegression Accuracy for train dataset:\", binary_evaluator.evaluate(train_pre, {binary_evaluator.metricName:\"areaUnderPR\"}))\n",
    "print(\"LinearRegression F1 for train dataset:\", binary_evaluator.evaluate(train_pre, {binary_evaluator.metricName:\"areaUnderROC\"}))\n",
    "# print(\"LinearRegression Accuracy for test dataset:\", binary_evaluator.evaluate(test_pre))"
   ]
  },
  {
   "cell_type": "markdown",
   "metadata": {},
   "source": [
    "### LogistRegression"
   ]
  },
  {
   "cell_type": "code",
   "execution_count": 31,
   "metadata": {},
   "outputs": [],
   "source": [
    "logist_lr = LogisticRegression(labelCol=\"Churn\", featuresCol=\"features\" )\n",
    "logist_model = logist_lr.fit(train)"
   ]
  },
  {
   "cell_type": "code",
   "execution_count": 32,
   "metadata": {},
   "outputs": [],
   "source": [
    "train_pre_logist = logist_model.transform(train)\n",
    "test_pre_logist = logist_model.transform(test)"
   ]
  },
  {
   "cell_type": "code",
   "execution_count": 33,
   "metadata": {},
   "outputs": [
    {
     "name": "stdout",
     "output_type": "stream",
     "text": [
      "LogistRegression Accuracy for train dataset: 0.8710029211295035\n",
      "LogistRegression Accuracy for test dataset: 0.8616792013018426\n"
     ]
    }
   ],
   "source": [
    "print(\"LogistRegression Accuracy for train dataset:\", evaluator.evaluate(train_pre_logist))\n",
    "print(\"LogistRegression Accuracy for test dataset:\", evaluator.evaluate(test_pre_logist))"
   ]
  },
  {
   "cell_type": "markdown",
   "metadata": {},
   "source": [
    "### RandomForest Regression"
   ]
  },
  {
   "cell_type": "code",
   "execution_count": 34,
   "metadata": {},
   "outputs": [],
   "source": [
    "forest = RandomForestClassifier(labelCol=\"Churn\", featuresCol=\"features\", maxDepth=30, minInstancesPerNode=5)\n",
    "forest_model = forest.fit(train)"
   ]
  },
  {
   "cell_type": "code",
   "execution_count": 35,
   "metadata": {},
   "outputs": [],
   "source": [
    "train_pre_forest = forest_model.transform(train)\n",
    "test_pre_forest = forest_model.transform(test)"
   ]
  },
  {
   "cell_type": "code",
   "execution_count": 36,
   "metadata": {},
   "outputs": [
    {
     "name": "stdout",
     "output_type": "stream",
     "text": [
      "RandomForest Regression Accuracy for train dataset: 0.8924050632911392\n",
      "RandomForest Regression F1 Score for train dataset: 0.8943222546042771\n",
      "RandomForest Regression Accuracy for test dataset: 0.8181818181818182\n",
      "RandomForest Regression F1 for test dataset: 0.8371628371628371\n"
     ]
    }
   ],
   "source": [
    "print(\"RandomForest Regression Accuracy for train dataset:\", evaluator.evaluate(train_pre_forest, {evaluator.metricName:\"accuracy\"}))\n",
    "print(\"RandomForest Regression F1 Score for train dataset:\", evaluator.evaluate(train_pre_forest, {evaluator.metricName:\"f1\"}))\n",
    "\n",
    "print(\"RandomForest Regression Accuracy for test dataset:\", evaluator.evaluate(test_pre_forest, {evaluator.metricName:\"accuracy\"}))\n",
    "print(\"RandomForest Regression F1 for test dataset:\", evaluator.evaluate(test_pre_forest, {evaluator.metricName:\"f1\"}))"
   ]
  },
  {
   "cell_type": "markdown",
   "metadata": {},
   "source": [
    "### GridSearch"
   ]
  },
  {
   "cell_type": "code",
   "execution_count": 37,
   "metadata": {},
   "outputs": [],
   "source": [
    "# create hyper-paramter dict for each module\n",
    "linearregression_dict = {\n",
    "    lr.regParam: [0, 0.01, 0.1],\n",
    "    lr.fitIntercept: [True, False],\n",
    "    lr.maxIter: [10, 30, 50]\n",
    "}\n",
    "logistregression_dict = {\n",
    "    logist_lr.maxIter: [10, 30, 50],\n",
    "    logist_lr.fitIntercept: [True, False],\n",
    "    logist_lr.regParam: [0, 0.01, 0.1]\n",
    "}\n",
    "forest_dict = {forest.maxDepth : [*range(10, 40, 10)], \n",
    "            forest.minInstancesPerNode : [*range(1, 30, 6)], \n",
    "            forest.maxBins : [*range(2, 33, 8)], \n",
    "            forest.numTrees: [*range(3, 30, 9)]}"
   ]
  },
  {
   "cell_type": "code",
   "execution_count": 38,
   "metadata": {},
   "outputs": [],
   "source": [
    "# combine all to ({module_name}, {module}, {param}, {evaluators})\n",
    "all_module_dicts = [linearregression_dict, logistregression_dict, forest_dict]\n",
    "params_maps = [reduce(lambda gb, param: gb.addGrid(*param), \n",
    "                    module.items(), \n",
    "                    ParamGridBuilder()).build() for module in all_module_dicts]\n",
    "\n",
    "all_module_names = [\"LinearRegression\", \"LogistRegression\", \"RandomForestRegression\"]\n",
    "all_modules = [lr, logist_lr, forest]\n",
    "all_evaluates = [binary_evaluator] + [evaluator] * 2\n",
    "all_module_combine = list(zip(all_module_names,all_modules, params_maps, all_evaluates))"
   ]
  },
  {
   "cell_type": "code",
   "execution_count": 39,
   "metadata": {
    "scrolled": false
   },
   "outputs": [
    {
     "name": "stdout",
     "output_type": "stream",
     "text": [
      "LinearRegression Areaunderpr for Train dataset: 0.9709108999031755\n",
      "LinearRegression Areaunderroc for Train dataset: 0.9107775693141543\n",
      "LinearRegression Areaunderpr for Test dataset: 0.9885214440562645\n",
      "LinearRegression Areaunderroc for Test dataset: 0.9357142857142857\n",
      "Best params for LinearRegression: {Param(parent='LinearRegression_465c72a2e77c', name='regParam', doc='regularization parameter (>= 0).'): 0.1, Param(parent='LinearRegression_465c72a2e77c', name='fitIntercept', doc='whether to fit an intercept term.'): True, Param(parent='LinearRegression_465c72a2e77c', name='maxIter', doc='max number of iterations (>= 0).'): 10}\n",
      "\n",
      "LogistRegression Accuracy for Train dataset: 0.8544303797468354\n",
      "LogistRegression F1 for Train dataset: 0.8570242268175513\n",
      "LogistRegression Accuracy for Test dataset: 0.9090909090909091\n",
      "LogistRegression F1 for Test dataset: 0.912396694214876\n",
      "Best params for LogistRegression: {Param(parent='LogisticRegression_676714a80d8d', name='maxIter', doc='max number of iterations (>= 0).'): 50, Param(parent='LogisticRegression_676714a80d8d', name='fitIntercept', doc='whether to fit an intercept term.'): False, Param(parent='LogisticRegression_676714a80d8d', name='regParam', doc='regularization parameter (>= 0).'): 0.0}\n",
      "\n",
      "RandomForestRegression Accuracy for Train dataset: 0.8734177215189873\n",
      "RandomForestRegression F1 for Train dataset: 0.8774716958880415\n",
      "RandomForestRegression Accuracy for Test dataset: 0.8181818181818182\n",
      "RandomForestRegression F1 for Test dataset: 0.8371628371628371\n",
      "Best params for RandomForestRegression: {Param(parent='RandomForestClassifier_eacb427b1eb7', name='maxDepth', doc='Maximum depth of the tree. (>= 0) E.g., depth 0 means 1 leaf node; depth 1 means 1 internal node + 2 leaf nodes.'): 10, Param(parent='RandomForestClassifier_eacb427b1eb7', name='minInstancesPerNode', doc='Minimum number of instances each child must have after split. If a split causes the left or right child to have fewer than minInstancesPerNode, the split will be discarded as invalid. Should be >= 1.'): 13, Param(parent='RandomForestClassifier_eacb427b1eb7', name='maxBins', doc='Max number of bins for discretizing continuous features.  Must be >=2 and >= number of categories for any categorical feature.'): 10, Param(parent='RandomForestClassifier_eacb427b1eb7', name='numTrees', doc='Number of trees to train (>= 1).'): 21}\n",
      "\n"
     ]
    }
   ],
   "source": [
    "# cross valiator every hyper-paramter\n",
    "modules = {}\n",
    "for module_name, module, param, eva in all_module_combine:\n",
    "    cross = CrossValidator(estimator=module, estimatorParamMaps=param, evaluator=eva ,numFolds=3)\n",
    "    cModel = cross.fit(train)\n",
    "    \n",
    "    train_result = cModel.transform(train)\n",
    "    test_result = cModel.transform(test)\n",
    "    accuracy, f1 = (\"accuracy\", \"f1\") if isinstance(eva, MulticlassClassificationEvaluator) else (\"areaUnderPR\", \"areaUnderROC\")\n",
    "    print(f\"{module_name} {accuracy.capitalize()} for Train dataset:\", eva.evaluate(train_result, {eva.metricName: accuracy}))\n",
    "    print(f\"{module_name} {f1.capitalize()} for Train dataset:\", eva.evaluate(train_result, {eva.metricName: f1}))\n",
    "\n",
    "    print(f\"{module_name} {accuracy.capitalize()} for Test dataset:\", eva.evaluate(test_result, {eva.metricName: accuracy}))\n",
    "    print(f\"{module_name} {f1.capitalize()} for Test dataset:\", eva.evaluate(test_result, {eva.metricName: f1}))\n",
    "    \n",
    "    print(f\"Best params for {module_name}:\", cModel.getEstimatorParamMaps()[np.argmax(cModel.avgMetrics)])\n",
    "    print()\n",
    "    \n",
    "    modules[module_name] = {\"module\": cModel, \"evaluator\": eva}"
   ]
  },
  {
   "cell_type": "code",
   "execution_count": 40,
   "metadata": {},
   "outputs": [],
   "source": [
    "# base on final result , use linearregression as the final model\n",
    "final_module_dict = modules[\"LinearRegression\"]"
   ]
  },
  {
   "cell_type": "code",
   "execution_count": 41,
   "metadata": {},
   "outputs": [],
   "source": [
    "final_module = final_module_dict[\"module\"]\n",
    "val_tr = final_module.transform(val)"
   ]
  },
  {
   "cell_type": "code",
   "execution_count": 43,
   "metadata": {},
   "outputs": [
    {
     "name": "stdout",
     "output_type": "stream",
     "text": [
      "Val dataset areaUnderPR: 0.9628472924482193\n"
     ]
    }
   ],
   "source": [
    "final_evalutor = final_module_dict[\"evaluator\"]\n",
    "print(\"Val dataset areaUnderPR:\", final_evalutor.evaluate(val_tr, {final_evalutor.metricName: \"areaUnderPR\"}))"
   ]
  },
  {
   "cell_type": "markdown",
   "metadata": {},
   "source": [
    "# 最后一步\n",
    "清理你的代码，添加注释和重命名变量，使得代码更易读和易于维护。参考 Spark 项目概述页面和数据科学家毕业项目审阅要求，确保你的项目包含了毕业项目要求的所有内容，并且满足所有审阅要求。记得在 GitHub 代码库里包含一份全面的文档——README文件，以及一个网络应用程序或博客文章。"
   ]
  },
  {
   "cell_type": "code",
   "execution_count": null,
   "metadata": {},
   "outputs": [],
   "source": []
  }
 ],
 "metadata": {
  "kernelspec": {
   "display_name": "Python 3",
   "language": "python",
   "name": "python3"
  },
  "language_info": {
   "codemirror_mode": {
    "name": "ipython",
    "version": 3
   },
   "file_extension": ".py",
   "mimetype": "text/x-python",
   "name": "python",
   "nbconvert_exporter": "python",
   "pygments_lexer": "ipython3",
   "version": "3.7.0"
  }
 },
 "nbformat": 4,
 "nbformat_minor": 2
}
